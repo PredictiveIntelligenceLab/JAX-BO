{
 "cells": [
  {
   "cell_type": "code",
   "execution_count": 1,
   "metadata": {},
   "outputs": [],
   "source": [
    "import numpy as onp\n",
    "import jax.numpy as np\n",
    "from jax import random, vmap\n",
    "from jax.config import config\n",
    "config.update(\"jax_enable_x64\", True)\n",
    "\n",
    "from scipy.optimize import minimize\n",
    "from pyDOE import lhs\n",
    "import matplotlib.pyplot as plt\n",
    "from matplotlib import rc\n",
    "from scipy.interpolate import griddata\n",
    "\n",
    "from jaxbo.mcmc_models import GP\n",
    "from jaxbo.utils import normalize, compute_w_gmm\n",
    "from jaxbo.test_functions import *\n",
    "\n",
    "onp.random.seed(1234)"
   ]
  },
  {
   "cell_type": "code",
   "execution_count": 2,
   "metadata": {},
   "outputs": [],
   "source": [
    "# Define test function\n",
    "f, p_x, dim, lb, ub = oakley()\n",
    "\n",
    "# Problem settings\n",
    "N = 5\n",
    "noise = 0.0\n",
    "options = {'kernel': 'RBF',\n",
    "           'criterion': 'LW-LCB', \n",
    "           'input_prior': p_x,\n",
    "           'kappa': 2.0,\n",
    "           'nIter': 20}\n",
    "mcmc_settings = {'num_warmup': 1000,\n",
    "                 'num_samples': 4000,\n",
    "                 'num_chains': 1,\n",
    "                 'target_accept_prob': 0.9}\n",
    "gp_model = GP(options)\n",
    "\n",
    "# Fetch domain bounds\n",
    "bounds = {'lb': lb, 'ub': ub}\n",
    "\n",
    "# Initial training data\n",
    "X = lb + (ub-lb)*lhs(dim, N)\n",
    "y = vmap(f)(X)\n",
    "y = y + noise*y.std(0)*onp.random.normal(y.shape)\n",
    "\n",
    "# Test data\n",
    "if dim == 1:\n",
    "    create_plots = True\n",
    "    nn = 1000\n",
    "    X_star = np.linspace(lb[0], ub[0], nn)[:,None]\n",
    "    y_star = vmap(f)(X_star)\n",
    "elif dim == 2:\n",
    "    create_plots = True\n",
    "    nn = 80\n",
    "    xx = np.linspace(lb[0], ub[0], nn)\n",
    "    yy = np.linspace(lb[1], ub[1], nn)\n",
    "    XX, YY = np.meshgrid(xx, yy)\n",
    "    X_star = np.concatenate([XX.flatten()[:,None], \n",
    "                             YY.flatten()[:,None]], axis = 1)\n",
    "    y_star = vmap(f)(X_star)\n",
    "else:\n",
    "    create_plots = False\n",
    "    nn = 20000\n",
    "    X_star = lb + (ub-lb)*lhs(dim, nn)\n",
    "    y_star = vmap(f)(X_star)\n",
    "\n",
    "# True location of global minimum\n",
    "idx_true = np.argmin(y_star)\n",
    "true_x = X_star[idx_true,:]\n",
    "true_y = y_star.min()\n",
    "dom_bounds = tuple(map(tuple, np.vstack((lb, ub)).T))\n",
    "result = minimize(f, true_x, jac=None, method='L-BFGS-B', bounds = dom_bounds)\n",
    "true_x, true_y = result.x, result.fun"
   ]
  },
  {
   "cell_type": "code",
   "execution_count": 3,
   "metadata": {},
   "outputs": [
    {
     "name": "stdout",
     "output_type": "stream",
     "text": [
      "-------------------------------------------------------------------\n",
      "------------------------- Iteration 1/20 -------------------------\n",
      "-------------------------------------------------------------------\n",
      "Train GP...\n"
     ]
    },
    {
     "name": "stderr",
     "output_type": "stream",
     "text": [
      "sample: 100%|██████████| 5000/5000 [00:08<00:00, 570.19it/s, 15 steps of size 1.28e-01. acc. prob=0.85] \n"
     ]
    },
    {
     "name": "stdout",
     "output_type": "stream",
     "text": [
      "\n",
      "                      mean       std    median      5.0%     95.0%     n_eff     r_hat\n",
      "kernel_length[0]      7.18     49.51      0.00      0.00      0.60    530.85      1.00\n",
      "kernel_length[1]      9.56     58.45      0.00      0.00      0.86    332.63      1.00\n",
      "      kernel_var      0.10      0.27      0.00      0.00      0.30   2001.53      1.00\n",
      "       noise_var      0.35      1.18      0.01      0.00      0.99   2016.52      1.00\n",
      "\n",
      "Number of divergences: 699\n",
      "\n",
      "MCMC elapsed time: 11.42 seconds\n",
      "Fit GMM...\n",
      "Computing next acquisition point...\n",
      "Updating data-set...\n",
      "True location: (-3.665193,-2.094395), True value: -4.223688\n",
      "Best location: (-3.693569,-1.143426), Best value: -3.360093\n",
      "New  location: (0.047755,-0.041718), New  value: 6.920347\n",
      "-------------------------------------------------------------------\n",
      "------------------------- Iteration 2/20 -------------------------\n",
      "-------------------------------------------------------------------\n",
      "Train GP...\n"
     ]
    },
    {
     "name": "stderr",
     "output_type": "stream",
     "text": [
      "sample: 100%|██████████| 5000/5000 [00:08<00:00, 609.71it/s, 31 steps of size 1.03e-01. acc. prob=0.91] \n"
     ]
    },
    {
     "name": "stdout",
     "output_type": "stream",
     "text": [
      "\n",
      "                      mean       std    median      5.0%     95.0%     n_eff     r_hat\n",
      "kernel_length[0]      3.27     32.35      0.00      0.00      0.13    418.64      1.01\n",
      "kernel_length[1]      3.42     25.91      0.00      0.00      0.71   1105.24      1.00\n",
      "      kernel_var      0.10      0.26      0.00      0.00      0.33   1737.70      1.00\n",
      "       noise_var      0.19      0.67      0.00      0.00      0.52   1755.08      1.00\n",
      "\n",
      "Number of divergences: 434\n",
      "\n",
      "MCMC elapsed time: 9.34 seconds\n",
      "Fit GMM...\n",
      "Computing next acquisition point...\n",
      "Updating data-set...\n",
      "True location: (-3.665193,-2.094395), True value: -4.223688\n",
      "Best location: (-3.693569,-1.143426), Best value: -3.360093\n",
      "New  location: (-0.046612,-0.042231), New  value: 6.824547\n",
      "-------------------------------------------------------------------\n",
      "------------------------- Iteration 3/20 -------------------------\n",
      "-------------------------------------------------------------------\n",
      "Train GP...\n"
     ]
    },
    {
     "name": "stderr",
     "output_type": "stream",
     "text": [
      "sample: 100%|██████████| 5000/5000 [00:07<00:00, 630.59it/s, 31 steps of size 1.29e-01. acc. prob=0.86] \n"
     ]
    },
    {
     "name": "stdout",
     "output_type": "stream",
     "text": [
      "\n",
      "                      mean       std    median      5.0%     95.0%     n_eff     r_hat\n",
      "kernel_length[0]      0.03      0.08      0.00      0.00      0.09   2105.17      1.00\n",
      "kernel_length[1]      0.17      5.64      0.00      0.00      0.23   3975.74      1.00\n",
      "      kernel_var      0.11      0.28      0.00      0.00      0.36   2024.39      1.00\n",
      "       noise_var      0.01      0.04      0.00      0.00      0.00   3105.23      1.00\n",
      "\n",
      "Number of divergences: 115\n",
      "\n",
      "MCMC elapsed time: 8.95 seconds\n",
      "Fit GMM...\n",
      "Computing next acquisition point...\n",
      "Updating data-set...\n",
      "True location: (-3.665193,-2.094395), True value: -4.223688\n",
      "Best location: (-3.693569,-1.143426), Best value: -3.360093\n",
      "New  location: (-2.191255,-1.005332), New  value: -1.048085\n",
      "-------------------------------------------------------------------\n",
      "------------------------- Iteration 4/20 -------------------------\n",
      "-------------------------------------------------------------------\n",
      "Train GP...\n"
     ]
    },
    {
     "name": "stderr",
     "output_type": "stream",
     "text": [
      "sample: 100%|██████████| 5000/5000 [00:08<00:00, 584.03it/s, 31 steps of size 8.44e-02. acc. prob=0.95] \n"
     ]
    },
    {
     "name": "stdout",
     "output_type": "stream",
     "text": [
      "\n",
      "                      mean       std    median      5.0%     95.0%     n_eff     r_hat\n",
      "kernel_length[0]      0.08      2.82      0.00      0.00      0.12   3419.54      1.00\n",
      "kernel_length[1]      0.07      0.16      0.00      0.00      0.24   2237.08      1.00\n",
      "      kernel_var      0.06      0.18      0.00      0.00      0.17   2577.67      1.00\n",
      "       noise_var      0.00      0.03      0.00      0.00      0.00   1764.58      1.00\n",
      "\n",
      "Number of divergences: 26\n",
      "\n",
      "MCMC elapsed time: 9.58 seconds\n",
      "Fit GMM...\n",
      "Computing next acquisition point...\n",
      "Updating data-set...\n",
      "True location: (-3.665193,-2.094395), True value: -4.223688\n",
      "Best location: (-3.693569,-1.143426), Best value: -3.360093\n",
      "New  location: (-1.679425,-1.635859), New  value: -0.527882\n",
      "-------------------------------------------------------------------\n",
      "------------------------- Iteration 5/20 -------------------------\n",
      "-------------------------------------------------------------------\n",
      "Train GP...\n"
     ]
    },
    {
     "name": "stderr",
     "output_type": "stream",
     "text": [
      "sample: 100%|██████████| 5000/5000 [00:09<00:00, 534.12it/s, 31 steps of size 8.14e-02. acc. prob=0.87]\n"
     ]
    },
    {
     "name": "stdout",
     "output_type": "stream",
     "text": [
      "\n",
      "                      mean       std    median      5.0%     95.0%     n_eff     r_hat\n",
      "kernel_length[0]      0.05      0.10      0.00      0.00      0.17   1623.76      1.00\n",
      "kernel_length[1]      0.10      0.21      0.00      0.00      0.39   1147.51      1.00\n",
      "      kernel_var      0.06      0.16      0.00      0.00      0.16   2296.20      1.00\n",
      "       noise_var      0.00      0.02      0.00      0.00      0.00   3781.46      1.00\n",
      "\n",
      "Number of divergences: 79\n",
      "\n",
      "MCMC elapsed time: 10.57 seconds\n",
      "Fit GMM...\n",
      "Computing next acquisition point...\n",
      "Updating data-set...\n",
      "True location: (-3.665193,-2.094395), True value: -4.223688\n",
      "Best location: (-3.693569,-1.143426), Best value: -3.360093\n",
      "New  location: (0.478866,0.971187), New  value: 9.876202\n",
      "-------------------------------------------------------------------\n",
      "------------------------- Iteration 6/20 -------------------------\n",
      "-------------------------------------------------------------------\n",
      "Train GP...\n"
     ]
    },
    {
     "name": "stderr",
     "output_type": "stream",
     "text": [
      "sample: 100%|██████████| 5000/5000 [00:09<00:00, 536.60it/s, 63 steps of size 5.64e-02. acc. prob=0.91] \n"
     ]
    },
    {
     "name": "stdout",
     "output_type": "stream",
     "text": [
      "\n",
      "                      mean       std    median      5.0%     95.0%     n_eff     r_hat\n",
      "kernel_length[0]      0.10      0.16      0.01      0.00      0.35    660.46      1.00\n",
      "kernel_length[1]      0.08      0.15      0.00      0.00      0.29   1280.22      1.00\n",
      "      kernel_var      0.04      0.12      0.00      0.00      0.12   2582.77      1.00\n",
      "       noise_var      0.00      0.01      0.00      0.00      0.00   3253.80      1.00\n",
      "\n",
      "Number of divergences: 10\n",
      "\n",
      "MCMC elapsed time: 10.62 seconds\n",
      "Fit GMM...\n",
      "Computing next acquisition point...\n",
      "Updating data-set...\n",
      "True location: (-3.665193,-2.094395), True value: -4.223688\n",
      "Best location: (-3.693569,-1.143426), Best value: -3.360093\n",
      "New  location: (-0.764492,-1.213832), New  value: 2.591220\n",
      "-------------------------------------------------------------------\n",
      "------------------------- Iteration 7/20 -------------------------\n",
      "-------------------------------------------------------------------\n",
      "Train GP...\n"
     ]
    },
    {
     "name": "stderr",
     "output_type": "stream",
     "text": [
      "sample: 100%|██████████| 5000/5000 [00:08<00:00, 568.72it/s, 63 steps of size 4.08e-02. acc. prob=0.93] \n"
     ]
    },
    {
     "name": "stdout",
     "output_type": "stream",
     "text": [
      "\n",
      "                      mean       std    median      5.0%     95.0%     n_eff     r_hat\n",
      "kernel_length[0]      0.09      0.13      0.01      0.00      0.30    603.77      1.00\n",
      "kernel_length[1]      0.12      0.18      0.01      0.00      0.42    614.64      1.00\n",
      "      kernel_var      0.04      0.11      0.00      0.00      0.11   2281.55      1.00\n",
      "       noise_var      0.00      0.00      0.00      0.00      0.00   2392.02      1.00\n",
      "\n",
      "Number of divergences: 1\n",
      "\n",
      "MCMC elapsed time: 9.74 seconds\n",
      "Fit GMM...\n",
      "Computing next acquisition point...\n",
      "Updating data-set...\n",
      "True location: (-3.665193,-2.094395), True value: -4.223688\n",
      "Best location: (-3.693569,-1.143426), Best value: -3.360093\n",
      "New  location: (-2.420127,-0.333984), New  value: 0.088592\n",
      "-------------------------------------------------------------------\n",
      "------------------------- Iteration 8/20 -------------------------\n",
      "-------------------------------------------------------------------\n",
      "Train GP...\n"
     ]
    },
    {
     "name": "stderr",
     "output_type": "stream",
     "text": [
      "sample: 100%|██████████| 5000/5000 [00:10<00:00, 487.41it/s, 31 steps of size 3.18e-02. acc. prob=0.93] \n"
     ]
    },
    {
     "name": "stdout",
     "output_type": "stream",
     "text": [
      "\n",
      "                      mean       std    median      5.0%     95.0%     n_eff     r_hat\n",
      "kernel_length[0]      0.10      0.14      0.01      0.00      0.33    485.72      1.01\n",
      "kernel_length[1]      0.11      0.15      0.01      0.00      0.37    572.40      1.00\n",
      "      kernel_var      0.04      0.11      0.00      0.00      0.12   1626.15      1.00\n",
      "       noise_var      0.00      0.00      0.00      0.00      0.00   2068.28      1.00\n",
      "\n",
      "Number of divergences: 0\n",
      "\n",
      "MCMC elapsed time: 11.32 seconds\n",
      "Fit GMM...\n",
      "Computing next acquisition point...\n",
      "Updating data-set...\n",
      "True location: (-3.665193,-2.094395), True value: -4.223688\n",
      "Best location: (-3.693569,-1.143426), Best value: -3.360093\n",
      "New  location: (-2.575478,-1.833798), New  value: -3.028486\n",
      "-------------------------------------------------------------------\n",
      "------------------------- Iteration 9/20 -------------------------\n",
      "-------------------------------------------------------------------\n",
      "Train GP...\n"
     ]
    },
    {
     "name": "stderr",
     "output_type": "stream",
     "text": [
      "sample: 100%|██████████| 5000/5000 [00:10<00:00, 465.13it/s, 39 steps of size 2.30e-02. acc. prob=0.97] \n"
     ]
    },
    {
     "name": "stdout",
     "output_type": "stream",
     "text": [
      "\n",
      "                      mean       std    median      5.0%     95.0%     n_eff     r_hat\n",
      "kernel_length[0]      0.15      0.15      0.10      0.00      0.37    188.78      1.00\n",
      "kernel_length[1]      0.18      0.19      0.11      0.00      0.46    316.84      1.00\n",
      "      kernel_var      0.04      0.12      0.00      0.00      0.12   1373.55      1.00\n",
      "       noise_var      0.00      0.00      0.00      0.00      0.00   3008.35      1.00\n",
      "\n",
      "Number of divergences: 0\n",
      "\n",
      "MCMC elapsed time: 11.99 seconds\n",
      "Fit GMM...\n",
      "Computing next acquisition point...\n",
      "Updating data-set...\n",
      "True location: (-3.665193,-2.094395), True value: -4.223688\n",
      "Best location: (-3.693569,-1.143426), Best value: -3.360093\n",
      "New  location: (-1.492880,-0.634343), New  value: 1.843154\n",
      "-------------------------------------------------------------------\n",
      "------------------------- Iteration 10/20 -------------------------\n",
      "-------------------------------------------------------------------\n",
      "Train GP...\n"
     ]
    },
    {
     "name": "stderr",
     "output_type": "stream",
     "text": [
      "sample: 100%|██████████| 5000/5000 [00:10<00:00, 463.65it/s, 7 steps of size 1.75e-02. acc. prob=0.98]  \n"
     ]
    },
    {
     "name": "stdout",
     "output_type": "stream",
     "text": [
      "\n",
      "                      mean       std    median      5.0%     95.0%     n_eff     r_hat\n",
      "kernel_length[0]      0.22      0.17      0.24      0.00      0.44    185.45      1.00\n",
      "kernel_length[1]      0.24      0.20      0.24      0.00      0.50    196.54      1.00\n",
      "      kernel_var      0.04      0.11      0.00      0.00      0.10   1644.66      1.00\n",
      "       noise_var      0.00      0.00      0.00      0.00      0.00   1937.84      1.00\n",
      "\n",
      "Number of divergences: 0\n",
      "\n",
      "MCMC elapsed time: 11.99 seconds\n",
      "Fit GMM...\n",
      "Computing next acquisition point...\n",
      "Updating data-set...\n",
      "True location: (-3.665193,-2.094395), True value: -4.223688\n",
      "Best location: (-3.368890,-1.926324), Best value: -4.118698\n",
      "New  location: (-3.368890,-1.926324), New  value: -4.118698\n",
      "-------------------------------------------------------------------\n",
      "------------------------- Iteration 11/20 -------------------------\n",
      "-------------------------------------------------------------------\n",
      "Train GP...\n"
     ]
    },
    {
     "name": "stderr",
     "output_type": "stream",
     "text": [
      "sample: 100%|██████████| 5000/5000 [00:09<00:00, 510.76it/s, 15 steps of size 3.32e-02. acc. prob=0.98] \n"
     ]
    },
    {
     "name": "stdout",
     "output_type": "stream",
     "text": [
      "\n",
      "                      mean       std    median      5.0%     95.0%     n_eff     r_hat\n",
      "kernel_length[0]      0.27      0.15      0.30      0.00      0.44    178.17      1.03\n",
      "kernel_length[1]      0.37      0.17      0.40      0.08      0.64     95.08      1.02\n",
      "      kernel_var      0.04      0.11      0.00      0.00      0.11   1737.78      1.00\n",
      "       noise_var      0.00      0.00      0.00      0.00      0.00   1907.00      1.00\n",
      "\n",
      "Number of divergences: 0\n",
      "\n",
      "MCMC elapsed time: 10.89 seconds\n",
      "Fit GMM...\n",
      "Computing next acquisition point...\n",
      "Updating data-set...\n",
      "True location: (-3.665193,-2.094395), True value: -4.223688\n",
      "Best location: (-3.368890,-1.926324), Best value: -4.118698\n",
      "New  location: (-2.714667,-2.394594), New  value: -3.288627\n",
      "-------------------------------------------------------------------\n",
      "------------------------- Iteration 12/20 -------------------------\n",
      "-------------------------------------------------------------------\n",
      "Train GP...\n"
     ]
    },
    {
     "name": "stderr",
     "output_type": "stream",
     "text": [
      "sample: 100%|██████████| 5000/5000 [00:09<00:00, 519.85it/s, 87 steps of size 1.98e-02. acc. prob=0.95] \n"
     ]
    },
    {
     "name": "stdout",
     "output_type": "stream",
     "text": [
      "\n",
      "                      mean       std    median      5.0%     95.0%     n_eff     r_hat\n",
      "kernel_length[0]      0.28      0.16      0.31      0.00      0.46    182.56      1.00\n",
      "kernel_length[1]      0.38      0.17      0.42      0.00      0.55    107.62      1.02\n",
      "      kernel_var      0.04      0.12      0.00      0.00      0.12   1116.09      1.00\n",
      "       noise_var      0.00      0.00      0.00      0.00      0.00   1553.76      1.00\n",
      "\n",
      "Number of divergences: 0\n",
      "\n",
      "MCMC elapsed time: 10.76 seconds\n",
      "Fit GMM...\n",
      "Computing next acquisition point...\n",
      "Updating data-set...\n",
      "True location: (-3.665193,-2.094395), True value: -4.223688\n",
      "Best location: (-3.602282,-2.182766), Best value: -4.213577\n",
      "New  location: (-3.602282,-2.182766), New  value: -4.213577\n",
      "-------------------------------------------------------------------\n",
      "------------------------- Iteration 13/20 -------------------------\n",
      "-------------------------------------------------------------------\n",
      "Train GP...\n"
     ]
    },
    {
     "name": "stderr",
     "output_type": "stream",
     "text": [
      "sample: 100%|██████████| 5000/5000 [00:16<00:00, 312.48it/s, 55 steps of size 2.13e-02. acc. prob=0.96] \n"
     ]
    },
    {
     "name": "stdout",
     "output_type": "stream",
     "text": [
      "\n",
      "                      mean       std    median      5.0%     95.0%     n_eff     r_hat\n",
      "kernel_length[0]      0.32      0.13      0.34      0.12      0.54    267.12      1.00\n",
      "kernel_length[1]      0.43      0.14      0.45      0.24      0.63    174.01      1.01\n",
      "      kernel_var      0.04      0.12      0.00      0.00      0.11   1401.68      1.00\n",
      "       noise_var      0.00      0.00      0.00      0.00      0.00   1707.71      1.00\n",
      "\n",
      "Number of divergences: 0\n",
      "\n",
      "MCMC elapsed time: 17.19 seconds\n",
      "Fit GMM...\n",
      "Computing next acquisition point...\n",
      "Updating data-set...\n",
      "True location: (-3.665193,-2.094395), True value: -4.223688\n",
      "Best location: (-3.602282,-2.182766), Best value: -4.213577\n",
      "New  location: (-3.633818,-1.991973), New  value: -4.213575\n",
      "-------------------------------------------------------------------\n",
      "------------------------- Iteration 14/20 -------------------------\n",
      "-------------------------------------------------------------------\n",
      "Train GP...\n"
     ]
    },
    {
     "name": "stderr",
     "output_type": "stream",
     "text": [
      "sample: 100%|██████████| 5000/5000 [00:11<00:00, 422.46it/s, 47 steps of size 5.37e-02. acc. prob=0.97] \n"
     ]
    },
    {
     "name": "stdout",
     "output_type": "stream",
     "text": [
      "\n",
      "                      mean       std    median      5.0%     95.0%     n_eff     r_hat\n",
      "kernel_length[0]      0.26      0.14      0.29      0.00      0.41    131.13      1.00\n",
      "kernel_length[1]      0.39      0.18      0.44      0.00      0.58     27.62      1.09\n",
      "      kernel_var      0.04      0.11      0.00      0.00      0.10   2007.43      1.00\n",
      "       noise_var      0.00      0.00      0.00      0.00      0.00   1983.89      1.00\n",
      "\n",
      "Number of divergences: 0\n",
      "\n",
      "MCMC elapsed time: 13.49 seconds\n",
      "Fit GMM...\n",
      "Computing next acquisition point...\n",
      "Updating data-set...\n",
      "True location: (-3.665193,-2.094395), True value: -4.223688\n",
      "Best location: (-3.677889,-2.012196), Best value: -4.217608\n",
      "New  location: (-3.677889,-2.012196), New  value: -4.217608\n",
      "-------------------------------------------------------------------\n",
      "------------------------- Iteration 15/20 -------------------------\n",
      "-------------------------------------------------------------------\n",
      "Train GP...\n"
     ]
    },
    {
     "name": "stderr",
     "output_type": "stream",
     "text": [
      "sample: 100%|██████████| 5000/5000 [00:16<00:00, 295.02it/s, 127 steps of size 2.07e-02. acc. prob=0.98] \n"
     ]
    },
    {
     "name": "stdout",
     "output_type": "stream",
     "text": [
      "\n",
      "                      mean       std    median      5.0%     95.0%     n_eff     r_hat\n",
      "kernel_length[0]      0.26      0.10      0.28      0.10      0.44    295.61      1.01\n",
      "kernel_length[1]      0.45      0.12      0.47      0.26      0.63    274.45      1.01\n",
      "      kernel_var      0.04      0.10      0.00      0.00      0.10   1935.51      1.00\n",
      "       noise_var      0.00      0.00      0.00      0.00      0.00   2114.58      1.00\n",
      "\n",
      "Number of divergences: 0\n",
      "\n",
      "MCMC elapsed time: 18.30 seconds\n",
      "Fit GMM...\n",
      "Computing next acquisition point...\n",
      "Updating data-set...\n",
      "True location: (-3.665193,-2.094395), True value: -4.223688\n",
      "Best location: (-3.656302,-2.092884), Best value: -4.223618\n",
      "New  location: (-3.656302,-2.092884), New  value: -4.223618\n",
      "-------------------------------------------------------------------\n",
      "------------------------- Iteration 16/20 -------------------------\n",
      "-------------------------------------------------------------------\n",
      "Train GP...\n"
     ]
    },
    {
     "name": "stderr",
     "output_type": "stream",
     "text": [
      "sample: 100%|██████████| 5000/5000 [00:10<00:00, 497.65it/s, 31 steps of size 1.96e-01. acc. prob=0.91] \n"
     ]
    },
    {
     "name": "stdout",
     "output_type": "stream",
     "text": [
      "\n",
      "                      mean       std    median      5.0%     95.0%     n_eff     r_hat\n",
      "kernel_length[0]      0.26      0.10      0.27      0.11      0.43    130.57      1.02\n",
      "kernel_length[1]      0.48      0.12      0.50      0.31      0.66    140.06      1.00\n",
      "      kernel_var      0.04      0.12      0.00      0.00      0.12   1124.08      1.00\n",
      "       noise_var      0.00      0.00      0.00      0.00      0.00   2469.67      1.00\n",
      "\n",
      "Number of divergences: 32\n",
      "\n",
      "MCMC elapsed time: 11.26 seconds\n",
      "Fit GMM...\n",
      "Computing next acquisition point...\n",
      "Updating data-set...\n",
      "True location: (-3.665193,-2.094395), True value: -4.223688\n",
      "Best location: (-3.661838,-2.093657), Best value: -4.223678\n",
      "New  location: (-3.661838,-2.093657), New  value: -4.223678\n",
      "-------------------------------------------------------------------\n",
      "------------------------- Iteration 17/20 -------------------------\n",
      "-------------------------------------------------------------------\n",
      "Train GP...\n"
     ]
    },
    {
     "name": "stderr",
     "output_type": "stream",
     "text": [
      "sample: 100%|██████████| 5000/5000 [00:11<00:00, 447.74it/s, 31 steps of size 1.02e-01. acc. prob=0.93]\n"
     ]
    },
    {
     "name": "stdout",
     "output_type": "stream",
     "text": [
      "\n",
      "                      mean       std    median      5.0%     95.0%     n_eff     r_hat\n",
      "kernel_length[0]      0.26      0.09      0.27      0.12      0.41    321.99      1.01\n",
      "kernel_length[1]      0.51      0.10      0.52      0.34      0.66   1151.38      1.00\n",
      "      kernel_var      0.04      0.11      0.00      0.00      0.12   2283.61      1.00\n",
      "       noise_var      0.00      0.00      0.00      0.00      0.00   2872.28      1.00\n",
      "\n",
      "Number of divergences: 2\n",
      "\n",
      "MCMC elapsed time: 12.47 seconds\n",
      "Fit GMM...\n",
      "Computing next acquisition point...\n",
      "Updating data-set...\n",
      "True location: (-3.665193,-2.094395), True value: -4.223688\n",
      "Best location: (-3.662220,-2.093535), Best value: -4.223680\n",
      "New  location: (-3.662220,-2.093535), New  value: -4.223680\n",
      "-------------------------------------------------------------------\n",
      "------------------------- Iteration 18/20 -------------------------\n",
      "-------------------------------------------------------------------\n",
      "Train GP...\n"
     ]
    },
    {
     "name": "stderr",
     "output_type": "stream",
     "text": [
      "sample: 100%|██████████| 5000/5000 [00:14<00:00, 354.94it/s, 63 steps of size 1.00e-01. acc. prob=0.95]\n"
     ]
    },
    {
     "name": "stdout",
     "output_type": "stream",
     "text": [
      "\n",
      "                      mean       std    median      5.0%     95.0%     n_eff     r_hat\n",
      "kernel_length[0]      0.26      0.09      0.27      0.11      0.41    391.15      1.01\n",
      "kernel_length[1]      0.53      0.10      0.54      0.38      0.68   1148.53      1.00\n",
      "      kernel_var      0.04      0.13      0.00      0.00      0.12   1683.74      1.00\n",
      "       noise_var      0.00      0.00      0.00      0.00      0.00   2008.49      1.00\n",
      "\n",
      "Number of divergences: 1\n",
      "\n",
      "MCMC elapsed time: 16.87 seconds\n",
      "Fit GMM...\n",
      "Computing next acquisition point...\n",
      "Updating data-set...\n",
      "True location: (-3.665193,-2.094395), True value: -4.223688\n",
      "Best location: (-3.662220,-2.093535), Best value: -4.223680\n",
      "New  location: (-3.660769,-2.093158), New  value: -4.223670\n",
      "-------------------------------------------------------------------\n",
      "------------------------- Iteration 19/20 -------------------------\n",
      "-------------------------------------------------------------------\n",
      "Train GP...\n"
     ]
    },
    {
     "name": "stderr",
     "output_type": "stream",
     "text": [
      "sample: 100%|██████████| 5000/5000 [00:19<00:00, 263.09it/s, 55 steps of size 1.99e-01. acc. prob=0.91]\n"
     ]
    },
    {
     "name": "stdout",
     "output_type": "stream",
     "text": [
      "\n",
      "                      mean       std    median      5.0%     95.0%     n_eff     r_hat\n",
      "kernel_length[0]      0.26      0.10      0.28      0.08      0.44     73.99      1.04\n",
      "kernel_length[1]      0.52      0.14      0.54      0.35      0.70     51.17      1.02\n",
      "      kernel_var      0.04      0.12      0.00      0.00      0.11   1198.58      1.00\n",
      "       noise_var      0.00      0.00      0.00      0.00      0.00   3705.16      1.00\n",
      "\n",
      "Number of divergences: 29\n",
      "\n",
      "MCMC elapsed time: 20.35 seconds\n",
      "Fit GMM...\n",
      "Computing next acquisition point...\n",
      "Updating data-set...\n",
      "True location: (-3.665193,-2.094395), True value: -4.223688\n",
      "Best location: (-3.662220,-2.093535), Best value: -4.223680\n",
      "New  location: (-3.660402,-2.093072), New  value: -4.223667\n",
      "-------------------------------------------------------------------\n",
      "------------------------- Iteration 20/20 -------------------------\n",
      "-------------------------------------------------------------------\n",
      "Train GP...\n"
     ]
    },
    {
     "name": "stderr",
     "output_type": "stream",
     "text": [
      "sample: 100%|██████████| 5000/5000 [00:10<00:00, 456.04it/s, 15 steps of size 1.66e-01. acc. prob=0.92] \n"
     ]
    },
    {
     "name": "stdout",
     "output_type": "stream",
     "text": [
      "\n",
      "                      mean       std    median      5.0%     95.0%     n_eff     r_hat\n",
      "kernel_length[0]      0.26      0.09      0.28      0.12      0.41    148.92      1.01\n",
      "kernel_length[1]      0.54      0.11      0.56      0.38      0.72   1163.69      1.00\n",
      "      kernel_var      0.05      0.13      0.00      0.00      0.14   1815.25      1.00\n",
      "       noise_var      0.00      0.00      0.00      0.00      0.00   3292.77      1.00\n",
      "\n",
      "Number of divergences: 14\n",
      "\n",
      "MCMC elapsed time: 12.89 seconds\n",
      "Fit GMM...\n",
      "Computing next acquisition point...\n",
      "Updating data-set...\n",
      "True location: (-3.665193,-2.094395), True value: -4.223688\n",
      "Best location: (-3.662220,-2.093535), Best value: -4.223680\n",
      "New  location: (-3.659746,-2.092328), New  value: -4.223659\n"
     ]
    }
   ],
   "source": [
    "# Main Bayesian optimization loop\n",
    "rng_key = random.PRNGKey(0)\n",
    "for it in range(options['nIter']):\n",
    "    print('-------------------------------------------------------------------')\n",
    "    print('------------------------- Iteration %d/%d -------------------------' % (it+1, options['nIter']))\n",
    "    print('-------------------------------------------------------------------')\n",
    "\n",
    "    # Fetch normalized training data\n",
    "    norm_batch, norm_const = normalize(X, y)\n",
    "\n",
    "    # Train GP model\n",
    "    print('Train GP...')\n",
    "    rng_key = random.split(rng_key)[0]\n",
    "    samples = gp_model.train(norm_batch,\n",
    "                             rng_key,\n",
    "                             mcmc_settings)\n",
    "    # For now just take the average of the sample (later implement posterior inference)\n",
    "    params = np.concatenate([samples['kernel_var'][:,None], \n",
    "                             samples['kernel_length'], \n",
    "                             samples['noise_var'][:,None]], axis = 1)\n",
    "    opt_params = np.mean(params, axis = 0)    \n",
    "\n",
    "    # Fit GMM\n",
    "    if options['criterion'] == 'LW-LCB' or options['criterion'] == 'LW-US':\n",
    "        print('Fit GMM...')\n",
    "        rng_key = random.split(rng_key)[0]\n",
    "        kwargs = {'params': opt_params,\n",
    "                  'batch': norm_batch,\n",
    "                  'norm_const': norm_const,\n",
    "                  'bounds': bounds,\n",
    "                  'rng_key': rng_key}\n",
    "        gmm_vars = gp_model.fit_gmm(**kwargs, N_samples = 10000)\n",
    "    else:\n",
    "        gmm_vars = None\n",
    "\n",
    "    # Compute next point via minimizing the acquisition function\n",
    "    print('Computing next acquisition point...')\n",
    "    kwargs = {'params': opt_params,\n",
    "              'batch': norm_batch,\n",
    "              'norm_const': norm_const,\n",
    "              'bounds': bounds,\n",
    "              'gmm_vars': gmm_vars}\n",
    "    new_X = gp_model.compute_next_point(num_restarts=10, **kwargs)\n",
    "\n",
    "    # Acquire data\n",
    "    new_y = vmap(f)(new_X)\n",
    "    new_y = new_y + noise*new_y.std(0)*onp.random.normal(new_y.shape)\n",
    "\n",
    "    # Augment training data\n",
    "    print('Updating data-set...')\n",
    "    X = np.concatenate([X, new_X], axis = 0)\n",
    "    y = np.concatenate([y, new_y], axis = 0)\n",
    "\n",
    "    # Print current best\n",
    "    idx_best = np.argmin(y)\n",
    "    best_x = X[idx_best,:]\n",
    "    best_y = y.min()\n",
    "    print('True location: (%f,%f), True value: %f' % (true_x[0], true_x[1], true_y))\n",
    "    print('Best location: (%f,%f), Best value: %f' % (best_x[0], best_x[1], best_y))\n",
    "    print('New  location: (%f,%f), New  value: %f' % (new_X[0,0], new_X[0,1], new_y))"
   ]
  },
  {
   "cell_type": "code",
   "execution_count": 6,
   "metadata": {},
   "outputs": [
    {
     "name": "stdout",
     "output_type": "stream",
     "text": [
      "Relative L2 error u: 1.359655e-01\n"
     ]
    }
   ],
   "source": [
    "# Test accuracy\n",
    "mean, std = gp_model.predict(X_star, **kwargs)\n",
    "lower = mean - 2.0*std\n",
    "upper = mean + 2.0*std\n",
    "# Check accuracy\n",
    "error = np.linalg.norm(mean-y_star,2)/np.linalg.norm(y_star,2)\n",
    "print(\"Relative L2 error u: %e\" % (error))"
   ]
  },
  {
   "cell_type": "code",
   "execution_count": 7,
   "metadata": {},
   "outputs": [
    {
     "data": {
      "image/png": "[encoded data removed]",
      "text/plain": [
       "<Figure size 1152x576 with 4 Axes>"
      ]
     },
     "metadata": {
      "needs_background": "light"
     },
     "output_type": "display_data"
    },
    {
     "data": {
      "image/png": "[encoded data removed]",
      "text/plain": [
       "<Figure size 864x360 with 3 Axes>"
      ]
     },
     "metadata": {
      "needs_background": "light"
     },
     "output_type": "display_data"
    }
   ],
   "source": [
    "if create_plots:\n",
    "    # Compute predictions\n",
    "    if options['criterion'] == 'LW-LCB' or options['criterion'] == 'LW-US':\n",
    "        w_pred = compute_w_gmm(X_star, **kwargs)\n",
    "    else:\n",
    "        w_pred = np.zeros(X_star.shape[0])\n",
    "        \n",
    "    acq_fun = lambda x: gp_model.acquisition(x, **kwargs)\n",
    "    a_pred = vmap(acq_fun)(X_star)\n",
    "    x_new = gp_model.compute_next_point(num_restarts=10, **kwargs)\n",
    "\n",
    "    # Convert to NumPy\n",
    "    X_star = onp.array(X_star)\n",
    "    y_star = onp.array(y_star)\n",
    "    mean = onp.array(mean)\n",
    "    std = onp.array(std)\n",
    "    w_pred = onp.array(w_pred)\n",
    "    a_pred = onp.array(a_pred)\n",
    "    XX = onp.array(XX)\n",
    "    YY = onp.array(YY)\n",
    "    Y_star = griddata(X_star, y_star, (XX, YY), method='cubic')\n",
    "    Y_pred = griddata(X_star, mean, (XX, YY), method='cubic')\n",
    "    Y_std  = griddata(X_star, std, (XX, YY), method='cubic')\n",
    "    W_star = griddata(X_star, w_pred, (XX, YY), method='cubic')\n",
    "    A_star = griddata(X_star, a_pred, (XX, YY), method='cubic')\n",
    "\n",
    "    # Plot\n",
    "    plt.rcParams.update({'font.size': 16})\n",
    "    plt.rcParams['axes.linewidth']=3\n",
    "    rc('font',**{'family':'sans-serif','sans-serif':['Helvetica']})\n",
    "    rc('text', usetex=True)\n",
    "\n",
    "    plt.figure(figsize = (16,8))\n",
    "    plt.subplot(1, 4, 1)\n",
    "    fig = plt.contourf(XX, YY, Y_star)\n",
    "    plt.plot(X[:,0], X[:,1], 'r.', ms = 6, alpha = 0.8)\n",
    "    # plt.plot(true_x[0], true_x[1], 'md', ms = 8, alpha = 1.0)\n",
    "    plt.xlabel(r'$x_1$')\n",
    "    plt.ylabel(r'$x_2$')\n",
    "    plt.title(r'Exact u(x)')\n",
    "    plt.axis('square')\n",
    "\n",
    "    plt.subplot(1, 4, 2)\n",
    "    fig = plt.contourf(XX, YY, Y_pred)\n",
    "    plt.xlabel(r'$x_1$')\n",
    "    plt.ylabel(r'$x_2$')\n",
    "    plt.title(r'Predicted mean')\n",
    "    plt.axis('square')\n",
    "\n",
    "    plt.subplot(1, 4, 3)\n",
    "    fig = plt.contourf(XX, YY, 2.0*Y_std)\n",
    "    plt.xlabel(r'$x_1$')\n",
    "    plt.ylabel(r'$x_2$')\n",
    "    plt.title(r'Two stds')\n",
    "    plt.axis('square')\n",
    "\n",
    "    plt.subplot(1, 4, 4)\n",
    "    fig = plt.contourf(XX, YY, np.abs(Y_star-Y_pred))\n",
    "    plt.xlabel(r'$x_1$')\n",
    "    plt.ylabel(r'$x_2$')\n",
    "    plt.title(r'Absolute error')\n",
    "    plt.axis('square')\n",
    "#     plt.savefig('function_prediction.png', dpi = 300)\n",
    "\n",
    "    idx_max = np.argmin(a_pred)\n",
    "    plt.figure(figsize = (12,5))\n",
    "    plt.subplot(1, 2, 1)\n",
    "    fig = plt.contourf(XX, YY, W_star)\n",
    "    plt.xlabel(r'$x_1$')\n",
    "    plt.ylabel(r'$x_2$')\n",
    "    plt.title(r'$w_{GMM}(x)$')\n",
    "    plt.axis('square')\n",
    "    plt.subplot(1, 2, 2)\n",
    "    fig = plt.contourf(XX, YY, A_star)\n",
    "    plt.colorbar(fig)\n",
    "    # plt.plot(x0[:,0], x0[:,1], 'ms')\n",
    "    # plt.plot(X_star[idx_max,0], X_star[idx_max,1], 'md')\n",
    "    plt.plot(x_new[:,0], x_new[:,1], 'md', label = 'new X')\n",
    "    plt.legend(frameon = False)\n",
    "    plt.xlabel(r'$x_1$')\n",
    "    plt.ylabel(r'$x_2$')\n",
    "    plt.title(r'%s(x)' % (options['criterion']))\n",
    "    plt.axis('square')\n",
    "#     plt.savefig('acquisition.png', dpi = 300)"
   ]
  },
  {
   "cell_type": "code",
   "execution_count": null,
   "metadata": {},
   "outputs": [],
   "source": []
  }
 ],
 "metadata": {
  "kernelspec": {
   "display_name": "Python 3",
   "language": "python",
   "name": "python3"
  },
  "language_info": {
   "codemirror_mode": {
    "name": "ipython",
    "version": 3
   },
   "file_extension": ".py",
   "mimetype": "text/x-python",
   "name": "python",
   "nbconvert_exporter": "python",
   "pygments_lexer": "ipython3",
   "version": "3.7.6"
  }
 },
 "nbformat": 4,
 "nbformat_minor": 4
}
