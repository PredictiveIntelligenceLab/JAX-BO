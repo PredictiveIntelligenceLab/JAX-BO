{
 "cells": [
  {
   "cell_type": "code",
   "execution_count": 29,
   "metadata": {},
   "outputs": [],
   "source": [
    "import jax.numpy as np\n",
    "from jax import random, vmap, jit\n",
    "from jax.scipy.stats import multivariate_normal\n",
    "from scipy.interpolate import griddata\n",
    "import matplotlib.pyplot as plt\n",
    "from mpl_toolkits.mplot3d import Axes3D\n",
    "\n",
    "import matplotlib\n",
    "matplotlib.use('Qt5Agg')\n",
    "%matplotlib qt5"
   ]
  },
  {
   "cell_type": "code",
   "execution_count": 65,
   "metadata": {},
   "outputs": [],
   "source": [
    "mu1 = np.array([0.0, 0.0])\n",
    "mu2 = np.array([3.0, 2.0])\n",
    "cov1 = np.array([[1.0, 0.6], [0.6, 1.0]])\n",
    "cov2 = np.array([[2.0, 0.5], [0.5, 2.0]])\n",
    "\n",
    "# High-fidelity data\n",
    "nn = 80\n",
    "xx = np.linspace(-5.0, 5.0, nn)\n",
    "yy = np.linspace(-5.0, 5.0, nn)\n",
    "XX, YY = np.meshgrid(xx, yy)\n",
    "X_H = np.concatenate([XX.flatten()[:,None], YY.flatten()[:,None]], axis = 1)\n",
    "y_H = multivariate_normal.pdf(X_H, mu1, cov1)# + 1.2*multivariate_normal.pdf(X_H, mu2, cov2)\n",
    "\n",
    "# Low-fidelity data\n",
    "X_L = np.linspace(-5.0, 5.0, X_H.shape[0])[:,None]\n",
    "y_L = multivariate_normal.pdf(X_L, mu1[0], cov1[0,0])# + 1.2*multivariate_normal.pdf(X_L, mu2[0], cov2[0,0])"
   ]
  },
  {
   "cell_type": "code",
   "execution_count": 66,
   "metadata": {},
   "outputs": [],
   "source": [
    "YHplot = griddata(X_H, y_H, (XX, YY), method = 'cubic')"
   ]
  },
  {
   "cell_type": "code",
   "execution_count": 67,
   "metadata": {},
   "outputs": [],
   "source": [
    "fig = plt.figure(figsize = (12,4))\n",
    "ax = fig.add_subplot(121, projection='3d')\n",
    "ax.plot_wireframe(XX, YY, YHplot, alpha = 0.5)\n",
    "ax = fig.add_subplot(122)\n",
    "ax.plot(X_L, y_L)\n",
    "plt.tight_layout()"
   ]
  },
  {
   "cell_type": "code",
   "execution_count": 73,
   "metadata": {},
   "outputs": [
    {
     "data": {
      "text/plain": [
       "[<matplotlib.lines.Line2D at 0x7fe6912fe2d0>]"
      ]
     },
     "execution_count": 73,
     "metadata": {},
     "output_type": "execute_result"
    }
   ],
   "source": [
    "y_H = multivariate_normal.pdf(np.concatenate([X_L,X_L], axis = 1), mu1, cov1)# + 1.2*multivariate_normal.pdf(X_H, mu2, cov2)\n",
    "plt.figure()\n",
    "plt.plot(y_L, y_H, 'r.', ms = 2)"
   ]
  },
  {
   "cell_type": "code",
   "execution_count": null,
   "metadata": {},
   "outputs": [],
   "source": []
  }
 ],
 "metadata": {
  "kernelspec": {
   "display_name": "Python 3",
   "language": "python",
   "name": "python3"
  },
  "language_info": {
   "codemirror_mode": {
    "name": "ipython",
    "version": 3
   },
   "file_extension": ".py",
   "mimetype": "text/x-python",
   "name": "python",
   "nbconvert_exporter": "python",
   "pygments_lexer": "ipython3",
   "version": "3.7.6"
  }
 },
 "nbformat": 4,
 "nbformat_minor": 4
}
