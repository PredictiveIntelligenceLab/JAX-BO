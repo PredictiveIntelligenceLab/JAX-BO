{
 "cells": [
  {
   "cell_type": "code",
   "execution_count": 1,
   "metadata": {},
   "outputs": [],
   "source": [
    "import numpy as onp\n",
    "import jax.numpy as np\n",
    "from jax import random, vmap\n",
    "from jax.config import config\n",
    "from jax.scipy.special import expit as sigmoid\n",
    "config.update(\"jax_enable_x64\", True)\n",
    "\n",
    "from scipy.optimize import minimize\n",
    "from pyDOE import lhs\n",
    "import matplotlib.pyplot as plt\n",
    "from matplotlib import rc\n",
    "from scipy.interpolate import griddata\n",
    "\n",
    "from jaxbo.mcmc_models import GPclassifier\n",
    "from jaxbo.utils import normalize, compute_w_gmm\n",
    "from jaxbo.input_priors import uniform_prior\n",
    "\n",
    "onp.random.seed(1234)"
   ]
  },
  {
   "cell_type": "markdown",
   "metadata": {},
   "source": [
    "## Generate some data"
   ]
  },
  {
   "cell_type": "code",
   "execution_count": 2,
   "metadata": {},
   "outputs": [],
   "source": [
    "def test_fun(X):\n",
    "    return ( 0.5 + np.sin(2.5*X[:,0]*np.pi)/3 - X[:,1]) > 0"
   ]
  },
  {
   "cell_type": "code",
   "execution_count": 3,
   "metadata": {},
   "outputs": [],
   "source": [
    "N = 50\n",
    "D = 2\n",
    "lb = 0.0*np.ones(D)\n",
    "ub = 1.0*np.ones(D)\n",
    "bounds = {'lb': lb, 'ub': ub}\n",
    "p_x = uniform_prior(lb, ub)\n",
    "\n",
    "# Training data\n",
    "X = lb + (ub - lb)*lhs(2,N) # generate data with a Latin hypercube desing\n",
    "y = 1.0*test_fun(X)\n",
    "\n",
    "# Test data\n",
    "nn = 50\n",
    "xx = np.linspace(lb[0], ub[0], nn)\n",
    "yy = np.linspace(lb[1], ub[1], nn)\n",
    "XX, YY = np.meshgrid(xx, yy)\n",
    "X_star = np.concatenate([XX.flatten()[:,None], YY.flatten()[:,None]], axis = 1)\n",
    "y_star = test_fun(X_star)"
   ]
  },
  {
   "cell_type": "markdown",
   "metadata": {},
   "source": [
    "## Model setup"
   ]
  },
  {
   "cell_type": "code",
   "execution_count": 4,
   "metadata": {},
   "outputs": [],
   "source": [
    "options = {'kernel': 'RBF',\n",
    "           'criterion': None, \n",
    "           'input_prior': p_x,\n",
    "           'kappa': None,\n",
    "           'nIter': None}\n",
    "mcmc_settings = {'num_warmup': 500,\n",
    "                 'num_samples': 5,\n",
    "                 'num_chains': 1,\n",
    "                 'target_accept_prob': 0.9}\n",
    "gp_model = GPclassifier(options)"
   ]
  },
  {
   "cell_type": "markdown",
   "metadata": {},
   "source": [
    "## Training"
   ]
  },
  {
   "cell_type": "code",
   "execution_count": 5,
   "metadata": {},
   "outputs": [
    {
     "name": "stdout",
     "output_type": "stream",
     "text": [
      "Train GP...\n"
     ]
    },
    {
     "name": "stderr",
     "output_type": "stream",
     "text": [
      "sample: 100%|██████████| 505/505 [00:09<00:00, 54.55it/s, 31 steps of size 1.59e-01. acc. prob=0.78] \n"
     ]
    },
    {
     "name": "stdout",
     "output_type": "stream",
     "text": [
      "\n",
      "                      mean       std    median      5.0%     95.0%     n_eff     r_hat\n",
      "            beta      0.57      1.34      0.55     -1.21      2.34      5.18      1.56\n",
      "          eta[0]     -0.06      0.57     -0.23     -0.65      0.87      5.12      1.50\n",
      "          eta[1]     -0.97      0.57     -0.74     -1.79     -0.41      2.85      2.60\n",
      "          eta[2]      0.21      1.00     -0.16     -0.44      1.97     58.86      0.93\n",
      "          eta[3]      0.62      0.46      0.54      0.07      1.28      2.83      2.25\n",
      "          eta[4]     -1.44      0.68     -1.25     -2.48     -0.85      7.88      0.76\n",
      "          eta[5]     -1.16      1.25     -1.72     -2.22      0.87     -8.73      0.85\n",
      "          eta[6]      0.84      0.92      0.34      0.16      2.31     61.65      0.94\n",
      "          eta[7]      1.25      0.48      1.19      0.70      1.78      3.75      2.33\n",
      "          eta[8]     -0.17      0.69     -0.25     -0.94      0.81      7.47      0.89\n",
      "          eta[9]     -0.85      0.47     -1.01     -1.23     -0.04     19.64      1.03\n",
      "         eta[10]     -0.17      1.23      0.14     -1.98      1.08     16.39      0.71\n",
      "         eta[11]     -0.76      0.47     -0.73     -1.26     -0.15      3.13      0.75\n",
      "         eta[12]      0.04      0.84      0.19     -1.27      0.98      3.48      1.44\n",
      "         eta[13]     -1.00      0.94     -1.27     -2.00      0.51     14.44      0.93\n",
      "         eta[14]     -1.06      0.36     -1.05     -1.47     -0.50   -457.90      0.71\n",
      "         eta[15]      0.69      0.84      0.80     -0.35      1.61      5.51      0.80\n",
      "         eta[16]      0.09      0.62      0.00     -0.50      0.86      4.45      0.81\n",
      "         eta[17]      0.16      0.75      0.42     -1.14      0.74     12.72      1.03\n",
      "         eta[18]      0.31      1.19      0.24     -0.91      1.96      4.64      0.92\n",
      "         eta[19]      0.17      1.40      0.28     -2.05      1.70     77.10      0.72\n",
      "         eta[20]     -0.02      1.28      0.42     -2.09      1.02     -7.80      0.75\n",
      "         eta[21]     -0.20      1.85     -0.09     -2.33      2.17    -20.19      0.72\n",
      "         eta[22]      0.19      0.30      0.13     -0.22      0.50      8.71      0.71\n",
      "         eta[23]     -0.61      1.58     -1.26     -1.86      1.89     11.27      0.78\n",
      "         eta[24]     -0.62      1.20     -0.47     -2.05      1.15      9.82      1.29\n",
      "         eta[25]     -0.63      1.09     -1.07     -1.49      1.14     53.54      0.89\n",
      "         eta[26]     -0.43      0.64     -0.20     -1.24      0.17      4.65      0.82\n",
      "         eta[27]     -0.27      0.70     -0.56     -0.76      0.95      5.76      1.09\n",
      "         eta[28]      0.23      0.32      0.35     -0.17      0.60     10.61      1.28\n",
      "         eta[29]     -0.48      0.74     -0.63     -1.45      0.48      3.15      0.84\n",
      "         eta[30]     -0.46      1.27     -1.32     -1.47      1.07      5.17      0.71\n",
      "         eta[31]      0.40      0.65      0.16     -0.16      1.50      3.53      1.33\n",
      "         eta[32]      0.28      1.06     -0.08     -0.56      2.02     86.55      0.78\n",
      "         eta[33]      0.09      0.88     -0.09     -0.76      1.57      8.50      1.76\n",
      "         eta[34]      0.27      0.46      0.14     -0.15      1.00    -23.43      0.81\n",
      "         eta[35]      0.32      0.83      0.28     -0.69      1.16    -18.25      0.72\n",
      "         eta[36]     -0.62      1.14     -0.91     -1.58      1.33     16.40      0.93\n",
      "         eta[37]     -0.10      0.34     -0.08     -0.47      0.38      3.71      0.73\n",
      "         eta[38]      0.54      0.86      0.74     -0.65      1.38      3.29      1.45\n",
      "         eta[39]      0.15      0.34      0.20     -0.31      0.50    -13.64      0.86\n",
      "         eta[40]     -0.45      1.27     -0.46     -2.00      1.14      8.66      0.71\n",
      "         eta[41]     -0.39      0.69     -0.12     -1.50      0.18      2.99      1.72\n",
      "         eta[42]     -0.12      0.70     -0.16     -1.08      0.85      4.85      0.78\n",
      "         eta[43]     -0.35      0.90     -0.08     -1.80      0.59     13.39      1.39\n",
      "         eta[44]     -0.38      0.60     -0.64     -0.73      0.69      7.17      0.98\n",
      "         eta[45]      0.18      0.46      0.37     -0.63      0.48  -2637.60      0.97\n",
      "         eta[46]     -0.46      1.26     -0.12     -2.51      0.78     23.11      0.80\n",
      "         eta[47]     -0.71      1.08     -0.50     -2.32      0.68      3.24      1.54\n",
      "         eta[48]     -0.26      0.98      0.15     -1.36      0.74     17.44      0.71\n",
      "         eta[49]      0.19      0.74      0.13     -0.60      1.22      3.18      0.77\n",
      "kernel_length[0]      0.23      0.04      0.20      0.19      0.27      5.46      1.00\n",
      "kernel_length[1]      0.36      0.15      0.41      0.17      0.52     10.74      0.73\n",
      "   kernel_var[0]      7.96      5.59      7.11      2.00     16.33     16.30      0.85\n",
      "\n",
      "Number of divergences: 0\n"
     ]
    }
   ],
   "source": [
    "rng_key = random.PRNGKey(123)\n",
    "data = {'X': X, 'y': y}\n",
    "print('Train GP...')\n",
    "key_train, key_test = random.split(rng_key)\n",
    "samples = gp_model.train(data,\n",
    "                         key_train,\n",
    "                         mcmc_settings,\n",
    "                         verbose = True)"
   ]
  },
  {
   "cell_type": "code",
   "execution_count": 6,
   "metadata": {},
   "outputs": [],
   "source": [
    "# Compute predictions\n",
    "rng_keys = random.split(key_test, \n",
    "                        mcmc_settings['num_samples'] * mcmc_settings['num_chains'])\n",
    "kwargs = {'samples': samples,\n",
    "          'batch': data,\n",
    "          'bounds': bounds,\n",
    "          'rng_key': key_test,\n",
    "          'rng_keys': rng_keys}\n",
    "mean, std = gp_model.predict(X_star, **kwargs)"
   ]
  },
  {
   "cell_type": "code",
   "execution_count": 11,
   "metadata": {},
   "outputs": [
    {
     "data": {
      "image/png": "[encoded data removed]",
      "text/plain": [
       "<Figure size 1080x360 with 6 Axes>"
      ]
     },
     "metadata": {
      "needs_background": "light"
     },
     "output_type": "display_data"
    }
   ],
   "source": [
    "Mplot = mean.reshape(nn,nn)\n",
    "Splot = std.reshape(nn,nn)\n",
    "Aplot = np.abs(Mplot)/(Splot + 1e-8)\n",
    "\n",
    "plt.figure(figsize=(15,5))\n",
    "plt.subplot(1, 3, 1)\n",
    "plt.contourf(XX, YY, sigmoid(Mplot), cmap=plt.get_cmap('bwr'), vmin=0, vmax=1)\n",
    "plt.colorbar()\n",
    "plt.scatter(X[:,0], X[:,1], c = y)\n",
    "plt.title('Posterior Mean')\n",
    "plt.xlim([lb[0], ub[0]])\n",
    "plt.ylim([lb[1], ub[1]])\n",
    "plt.tight_layout()\n",
    "\n",
    "plt.subplot(1, 3, 2)\n",
    "plt.contourf(XX, YY, 2.0*Splot, cmap=plt.get_cmap('Oranges'), vmin=0)\n",
    "plt.colorbar()\n",
    "# plt.scatter(X[:,0], X[:,1], c = y)\n",
    "plt.title('Posterior 2*Std')\n",
    "plt.xlim([lb[0], ub[0]])\n",
    "plt.ylim([lb[1], ub[1]])\n",
    "plt.tight_layout()\n",
    "\n",
    "plt.subplot(1, 3, 3)\n",
    "plt.contourf(XX, YY, Aplot)\n",
    "plt.colorbar()\n",
    "# plt.scatter(X[:,0], X[:,1], c = y)\n",
    "plt.title('Acquisition function')\n",
    "plt.xlim([lb[0], ub[0]])\n",
    "plt.ylim([lb[1], ub[1]])\n",
    "plt.tight_layout()"
   ]
  },
  {
   "cell_type": "code",
   "execution_count": 7,
   "metadata": {},
   "outputs": [],
   "source": [
    "# # Fit GMM\n",
    "# kwargs = {'samples': samples,\n",
    "#           'batch': data,\n",
    "#           'bounds': bounds,\n",
    "#           'rng_key': key_test,\n",
    "#           'rng_keys': rng_keys}\n",
    "# gmm_vars = gp_model.fit_gmm(**kwargs, N_samples = 10000)"
   ]
  },
  {
   "cell_type": "code",
   "execution_count": 8,
   "metadata": {},
   "outputs": [],
   "source": [
    "# kwargs = {'samples': samples,\n",
    "#           'batch': data,\n",
    "#           'bounds': bounds,\n",
    "#           'rng_key': key_test,\n",
    "#           'gmm_vars': gmm_vars}\n",
    "# w_pred = compute_w_gmm(X_star, **kwargs)"
   ]
  },
  {
   "cell_type": "code",
   "execution_count": null,
   "metadata": {},
   "outputs": [],
   "source": [
    "# plt.figure(figsize = (12,4))\n",
    "# plt.subplot(1, 2, 1)\n",
    "# plt.contourf(XX, YY, Wplot)\n",
    "# plt.colorbar()\n",
    "# plt.title('$w_{GMM}$')\n",
    "# plt.xlim([lb[0], ub[0]])\n",
    "# plt.ylim([lb[1], ub[1]])\n",
    "# plt.tight_layout()\n",
    "\n",
    "# plt.subplot(1, 2, 2)\n",
    "# plt.contourf(XX, YY, AAplot)\n",
    "# plt.colorbar()\n",
    "# plt.title('Acquisition function')\n",
    "# plt.xlim([lb[0], ub[0]])\n",
    "# plt.ylim([lb[1], ub[1]])\n",
    "# plt.tight_layout()"
   ]
  }
 ],
 "metadata": {
  "kernelspec": {
   "display_name": "Python 3",
   "language": "python",
   "name": "python3"
  },
  "language_info": {
   "codemirror_mode": {
    "name": "ipython",
    "version": 3
   },
   "file_extension": ".py",
   "mimetype": "text/x-python",
   "name": "python",
   "nbconvert_exporter": "python",
   "pygments_lexer": "ipython3",
   "version": "3.7.6"
  }
 },
 "nbformat": 4,
 "nbformat_minor": 4
}
