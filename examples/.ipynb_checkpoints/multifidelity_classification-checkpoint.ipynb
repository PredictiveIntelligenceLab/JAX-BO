{
 "cells": [
  {
   "cell_type": "code",
   "execution_count": 1,
   "metadata": {},
   "outputs": [],
   "source": [
    "import numpy as onp\n",
    "import jax.numpy as np\n",
    "from jax import random, vmap\n",
    "from jax.config import config\n",
    "from jax.scipy.special import expit as sigmoid\n",
    "config.update(\"jax_enable_x64\", True)\n",
    "\n",
    "from scipy.optimize import minimize\n",
    "from pyDOE import lhs\n",
    "import matplotlib.pyplot as plt\n",
    "from matplotlib import rc\n",
    "from scipy.interpolate import griddata\n",
    "from sklearn.metrics import confusion_matrix\n",
    "\n",
    "from jaxbo.mcmc_models import MultifidelityGPclassifier\n",
    "from jaxbo.utils import normalize, compute_w_gmm\n",
    "from jaxbo.input_priors import uniform_prior\n",
    "\n",
    "onp.random.seed(1234)"
   ]
  },
  {
   "cell_type": "markdown",
   "metadata": {},
   "source": [
    "## Generate some data"
   ]
  },
  {
   "cell_type": "code",
   "execution_count": 2,
   "metadata": {},
   "outputs": [],
   "source": [
    "def low_fidelity(X):\n",
    "    return (0.45 + np.sin(2.2*X[:,0]*np.pi)/2.5 - X[:,1]) > 0\n",
    "    \n",
    "def high_fidelity(X):\n",
    "    return ( 0.5 + np.sin(2.5*X[:,0]*np.pi)/3 - X[:,1]) > 0\n",
    "    \n",
    "def low_fidelity_boundary(X):\n",
    "    return (0.45 + np.sin(2.2*X[:,0]*np.pi)/2.5)\n",
    "    \n",
    "def high_fidelity_boundary(X):\n",
    "    return (0.5 + np.sin(2.5*X[:,0]*np.pi)/3)"
   ]
  },
  {
   "cell_type": "code",
   "execution_count": 3,
   "metadata": {},
   "outputs": [],
   "source": [
    "D = 2\n",
    "NL = 50 # number of low fidelity points\n",
    "NH = 10 # number of high fidelity points\n",
    "lb = 0.0*np.ones(D)\n",
    "ub = 1.0*np.ones(D)\n",
    "bounds = {'lb': lb, 'ub': ub}\n",
    "p_x = uniform_prior(lb, ub)\n",
    "\n",
    "# Training data\n",
    "XL = lb + (ub - lb)*lhs(D,NL) # generate data with a Latin hypercube desing\n",
    "yL = 1.0*low_fidelity(XL)\n",
    "\n",
    "# to generate the high fidelity data we choose some points\n",
    "# from both of classes in the low fidelity data\n",
    "ind1 = np.where(yL > 0)[0]\n",
    "ind0 = np.where(yL == 0)[0]\n",
    "\n",
    "XH1 = XL[onp.random.choice(ind1, int(NH/2), replace = False)]\n",
    "XH0 = XL[onp.random.choice(ind0, int(NH/2), replace = False)]\n",
    "\n",
    "XH = np.concatenate([XH1, XH0], axis = 0)\n",
    "yH = 1.0*high_fidelity(XH)\n",
    "\n",
    "y = np.concatenate([yL, yH])\n",
    "\n",
    "# Test data\n",
    "nn = 50\n",
    "xx = np.linspace(lb[0], ub[0], nn)\n",
    "yy = np.linspace(lb[1], ub[1], nn)\n",
    "XX, YY = np.meshgrid(xx, yy)\n",
    "X_star = np.concatenate([XX.flatten()[:,None], YY.flatten()[:,None]], axis = 1)\n",
    "y_star = 1.0*high_fidelity(X_star)"
   ]
  },
  {
   "cell_type": "markdown",
   "metadata": {},
   "source": [
    "## Model setup"
   ]
  },
  {
   "cell_type": "code",
   "execution_count": 7,
   "metadata": {},
   "outputs": [],
   "source": [
    "options = {'kernel': 'RBF',\n",
    "           'criterion': 'CLSF', \n",
    "           'input_prior': p_x,\n",
    "           'kappa': 1.0,\n",
    "           'nIter': 0}\n",
    "mcmc_settings = {'num_warmup': 500,\n",
    "                 'num_samples': 20,\n",
    "                 'num_chains': 1,\n",
    "                 'target_accept_prob': 0.9}\n",
    "gp_model = MultifidelityGPclassifier(options)"
   ]
  },
  {
   "cell_type": "markdown",
   "metadata": {},
   "source": [
    "## Training"
   ]
  },
  {
   "cell_type": "code",
   "execution_count": 8,
   "metadata": {},
   "outputs": [
    {
     "name": "stdout",
     "output_type": "stream",
     "text": [
      "Train GP...\n"
     ]
    },
    {
     "name": "stderr",
     "output_type": "stream",
     "text": [
      "sample: 100%|██████████| 520/520 [00:19<00:00, 26.24it/s, 63 steps of size 6.10e-02. acc. prob=0.98] \n"
     ]
    },
    {
     "name": "stdout",
     "output_type": "stream",
     "text": [
      "\n",
      "                        mean       std    median      5.0%     95.0%     n_eff     r_hat\n",
      "            beta_H      0.02      1.10     -0.19     -1.70      1.94     34.79      1.05\n",
      "            beta_L      0.02      0.56      0.26     -0.99      0.71     23.27      0.97\n",
      "          eta_H[0]      0.40      1.03      0.18     -1.37      1.62     23.08      0.95\n",
      "          eta_H[1]     -0.03      1.05     -0.00     -2.04      1.19     20.27      0.97\n",
      "          eta_H[2]      0.12      1.15      0.57     -1.98      1.36     21.61      1.01\n",
      "          eta_H[3]      0.00      0.95      0.04     -1.36      1.68     19.32      1.01\n",
      "          eta_H[4]     -0.02      0.67     -0.08     -0.88      1.12     14.66      1.06\n",
      "          eta_H[5]     -0.34      1.35     -0.55     -1.85      1.86     28.03      0.97\n",
      "          eta_H[6]     -0.00      1.18      0.08     -1.75      1.72     49.72      0.95\n",
      "          eta_H[7]      0.05      0.87     -0.09     -1.30      1.31   -452.41      0.96\n",
      "          eta_H[8]     -0.19      0.66     -0.29     -1.08      0.94     21.83      0.95\n",
      "          eta_H[9]      0.11      0.76     -0.05     -1.15      1.45     20.85      0.96\n",
      "          eta_L[0]      0.24      0.18      0.16      0.01      0.52     14.62      1.01\n",
      "          eta_L[1]     -1.24      0.52     -1.35     -1.92     -0.32     14.19      0.95\n",
      "          eta_L[2]     -0.05      0.48     -0.12     -0.76      0.72      9.16      0.95\n",
      "          eta_L[3]      0.18      0.44      0.35     -0.66      0.59     11.73      0.95\n",
      "          eta_L[4]     -1.78      0.52     -1.76     -2.65     -1.10     18.62      0.95\n",
      "          eta_L[5]     -0.36      0.43     -0.42     -0.84      0.50     20.73      0.95\n",
      "          eta_L[6]      0.79      0.62      0.65     -0.05      1.74     21.33      0.99\n",
      "          eta_L[7]      1.71      0.89      1.90      0.33      2.91     19.01      0.96\n",
      "          eta_L[8]     -0.26      0.95     -0.51     -1.58      1.25     38.77      0.95\n",
      "          eta_L[9]      0.06      0.77      0.13     -1.18      1.13      9.42      1.01\n",
      "         eta_L[10]      0.18      0.75      0.08     -1.20      1.22     26.75      0.96\n",
      "         eta_L[11]     -0.60      0.88     -0.55     -1.99      0.78    164.26      0.95\n",
      "         eta_L[12]      0.49      0.96      0.23     -0.33      2.13     23.50      0.97\n",
      "         eta_L[13]     -0.76      0.71     -0.80     -2.08      0.21     17.33      0.95\n",
      "         eta_L[14]     -0.36      0.72     -0.43     -1.23      1.00     10.67      0.95\n",
      "         eta_L[15]      0.18      1.02     -0.11     -1.67      1.73     15.65      0.95\n",
      "         eta_L[16]     -0.07      0.93      0.18     -1.84      1.01     18.52      0.96\n",
      "         eta_L[17]     -0.19      0.83     -0.17     -1.29      1.33     21.47      0.98\n",
      "         eta_L[18]     -0.30      1.10     -0.21     -1.75      1.75     12.10      1.07\n",
      "         eta_L[19]     -0.04      0.92      0.18     -1.83      0.96     94.70      0.96\n",
      "         eta_L[20]     -0.06      0.81      0.09     -1.27      1.33     42.63      0.95\n",
      "         eta_L[21]      0.09      0.77      0.03     -0.96      1.31     23.36      1.02\n",
      "         eta_L[22]      0.53      1.16      0.53     -1.07      2.42     15.99      0.97\n",
      "         eta_L[23]     -0.01      1.43      0.06     -2.15      2.00     73.75      0.96\n",
      "         eta_L[24]      0.02      0.82     -0.13     -0.94      1.68     19.16      0.95\n",
      "         eta_L[25]     -0.10      1.24     -0.36     -2.25      1.33     37.02      0.95\n",
      "         eta_L[26]     -0.23      0.95     -0.28     -1.61      1.48     13.49      1.07\n",
      "         eta_L[27]      0.22      1.91     -0.14     -2.44      2.77     29.31      0.99\n",
      "         eta_L[28]      0.19      1.10      0.24     -1.59      1.98    151.37      0.95\n",
      "         eta_L[29]     -0.19      0.54     -0.26     -0.89      0.83    202.13      0.96\n",
      "         eta_L[30]      0.01      0.63     -0.08     -0.70      1.10     25.75      0.96\n",
      "         eta_L[31]     -0.31      1.41     -0.40     -2.17      2.12     42.38      0.96\n",
      "         eta_L[32]     -0.03      0.94     -0.20     -1.55      1.39    293.58      0.95\n",
      "         eta_L[33]      0.29      0.72      0.36     -0.64      1.65     17.69      1.06\n",
      "         eta_L[34]      0.14      0.60      0.15     -0.85      1.17     25.77      0.99\n",
      "         eta_L[35]     -0.01      0.75     -0.02     -1.24      1.07     22.75      1.02\n",
      "         eta_L[36]     -0.19      1.11     -0.14     -1.81      1.47     26.91      0.97\n",
      "         eta_L[37]      0.05      0.74      0.10     -1.02      1.53     12.03      0.97\n",
      "         eta_L[38]     -0.14      0.90     -0.14     -1.16      1.35     30.79      1.04\n",
      "         eta_L[39]     -0.06      0.79     -0.05     -1.01      1.32     19.89      0.97\n",
      "         eta_L[40]     -0.26      1.37     -0.45     -2.03      1.78    540.98      0.96\n",
      "         eta_L[41]     -0.11      0.76     -0.08     -1.42      0.95     31.44      0.96\n",
      "         eta_L[42]      0.32      0.80      0.30     -0.70      2.22     29.40      1.00\n",
      "         eta_L[43]      0.07      0.70      0.12     -1.06      1.02     34.97      0.95\n",
      "         eta_L[44]      0.06      0.91     -0.08     -1.15      1.39     45.50      0.97\n",
      "         eta_L[45]     -0.19      1.29     -0.28     -2.43      1.40     19.62      0.96\n",
      "         eta_L[46]      0.20      0.99      0.32     -1.15      1.64     20.90      0.96\n",
      "         eta_L[47]      0.23      0.93      0.13     -1.19      1.71     20.04      0.95\n",
      "         eta_L[48]     -0.22      0.83     -0.21     -1.27      0.97     54.81      0.95\n",
      "         eta_L[49]     -0.20      1.48     -0.20     -2.95      2.51     23.44      0.95\n",
      "kernel_length_H[0]      1.95      2.03      1.34      0.22      5.74     40.99      0.95\n",
      "kernel_length_H[1]      2.42      3.91      0.96      0.19      7.05     34.33      0.96\n",
      "kernel_length_L[0]      0.26      0.07      0.26      0.14      0.34      8.18      0.97\n",
      "kernel_length_L[1]      0.53      0.20      0.51      0.26      0.88      8.49      0.95\n",
      "   kernel_var_H[0]      1.82      1.79      1.37      0.11      4.16     24.78      0.96\n",
      "   kernel_var_L[0]     11.75      8.90      8.97      4.17     18.52     23.13      0.97\n",
      "            rho[0]      8.96      4.96      9.39      2.59     16.76      7.16      1.06\n",
      "\n",
      "Number of divergences: 0\n"
     ]
    }
   ],
   "source": [
    "rng_key = random.PRNGKey(123)\n",
    "data = {'XL': XL, 'XH': XH, 'y': y}\n",
    "print('Train GP...')\n",
    "key_train, key_test = random.split(rng_key)\n",
    "samples = gp_model.train(data,\n",
    "                         key_train,\n",
    "                         mcmc_settings,\n",
    "                         verbose = True)"
   ]
  },
  {
   "cell_type": "code",
   "execution_count": 9,
   "metadata": {},
   "outputs": [
    {
     "name": "stdout",
     "output_type": "stream",
     "text": [
      "Classification accuracy: 0.885600%\n"
     ]
    }
   ],
   "source": [
    "# Compute predictions\n",
    "rng_keys = random.split(key_test, \n",
    "                        mcmc_settings['num_samples'] * mcmc_settings['num_chains'])\n",
    "kwargs = {'samples': samples,\n",
    "          'batch': data,\n",
    "          'bounds': bounds,\n",
    "          'rng_key': key_test,\n",
    "          'rng_keys': rng_keys}\n",
    "mean, std = gp_model.predict(X_star, **kwargs)\n",
    "acq_fn = lambda x: gp_model.acquisition(x, **kwargs)\n",
    "acq = vmap(acq_fn)(X_star)\n",
    "new_X = gp_model.compute_next_point_gs(X_star, **kwargs)\n",
    "acc_total = np.sum(np.rint(sigmoid(mean)) == y_star)/y_star.shape[0]\n",
    "print('Classification accuracy: %f%%' % (acc_total))"
   ]
  },
  {
   "cell_type": "code",
   "execution_count": 11,
   "metadata": {},
   "outputs": [
    {
     "data": {
      "image/png": "[encoded data removed]",
      "text/plain": [
       "<Figure size 1080x360 with 6 Axes>"
      ]
     },
     "metadata": {
      "needs_background": "light"
     },
     "output_type": "display_data"
    }
   ],
   "source": [
    "Mplot = mean.reshape(nn,nn)\n",
    "Splot = std.reshape(nn,nn)\n",
    "Aplot = acq.reshape(nn,nn)\n",
    "\n",
    "xx = np.linspace(0, 1, 100)[:,None]\n",
    "\n",
    "plt.figure(figsize=(15,5))\n",
    "plt.subplot(1, 3, 1)\n",
    "plt.contourf(XX, YY, sigmoid(Mplot), cmap=plt.get_cmap('bwr'), vmin=0, vmax=1)\n",
    "plt.colorbar()\n",
    "plt.scatter(XH[:,0], XH[:,1], c = yH)\n",
    "plt.plot(xx , high_fidelity_boundary(xx), 'k', label = 'high-fidelity boundary')\n",
    "plt.title('Posterior Mean')\n",
    "plt.xlim([lb[0], ub[0]])\n",
    "plt.ylim([lb[1], ub[1]])\n",
    "plt.tight_layout()\n",
    "\n",
    "plt.subplot(1, 3, 2)\n",
    "plt.contourf(XX, YY, 2.0*Splot, cmap=plt.get_cmap('Oranges'), vmin=0)\n",
    "plt.colorbar()\n",
    "# plt.scatter(X[:,0], X[:,1], c = y)\n",
    "plt.title('Posterior 2*Std')\n",
    "plt.xlim([lb[0], ub[0]])\n",
    "plt.ylim([lb[1], ub[1]])\n",
    "plt.tight_layout()\n",
    "\n",
    "plt.subplot(1, 3, 3)\n",
    "plt.contourf(XX, YY, Aplot)\n",
    "plt.plot(new_X[0,0], new_X[0,1], 'm*', ms = 12)\n",
    "plt.colorbar()\n",
    "# plt.scatter(X[:,0], X[:,1], c = y)\n",
    "plt.title('Acquisition function')\n",
    "plt.xlim([lb[0], ub[0]])\n",
    "plt.ylim([lb[1], ub[1]])\n",
    "plt.tight_layout()"
   ]
  },
  {
   "cell_type": "code",
   "execution_count": 8,
   "metadata": {},
   "outputs": [],
   "source": [
    "# Fit GMM\n",
    "kwargs = {'samples': samples,\n",
    "          'batch': data,\n",
    "          'bounds': bounds,\n",
    "          'rng_key': key_test,\n",
    "          'rng_keys': rng_keys}\n",
    "gmm_vars = gp_model.fit_gmm(**kwargs, N_samples = 10000)"
   ]
  },
  {
   "cell_type": "code",
   "execution_count": 9,
   "metadata": {},
   "outputs": [],
   "source": [
    "kwargs = {'samples': samples,\n",
    "          'batch': data,\n",
    "          'bounds': bounds,\n",
    "          'rng_key': key_test,\n",
    "          'gmm_vars': gmm_vars}\n",
    "w_pred = compute_w_gmm(X_star, **kwargs)\n",
    "acq = np.log(np.abs(mean)+1e-8) - np.log(std + 1e-8) - np.log(w_pred + 1e-8)\n",
    "# acq = np.abs(mean)/(std*w_pred)\n",
    "new_X = X_star[np.argmin(acq), :]"
   ]
  },
  {
   "cell_type": "code",
   "execution_count": 10,
   "metadata": {},
   "outputs": [
    {
     "data": {
      "image/png": "[encoded data removed]",
      "text/plain": [
       "<Figure size 576x288 with 4 Axes>"
      ]
     },
     "metadata": {
      "needs_background": "light"
     },
     "output_type": "display_data"
    }
   ],
   "source": [
    "Wplot = w_pred.reshape(nn,nn)\n",
    "AAplot = acq.reshape(nn,nn)\n",
    "\n",
    "plt.figure(figsize = (8,4))\n",
    "plt.subplot(1, 2, 1)\n",
    "plt.contourf(XX, YY, np.log(Wplot))\n",
    "plt.colorbar()\n",
    "plt.title('$w_{GMM}$')\n",
    "plt.xlim([lb[0], ub[0]])\n",
    "plt.ylim([lb[1], ub[1]])\n",
    "plt.tight_layout()\n",
    "\n",
    "plt.subplot(1, 2, 2)\n",
    "plt.contourf(XX, YY, AAplot)\n",
    "plt.colorbar()\n",
    "plt.plot(new_X[0], new_X[1], 'm*', ms = 12)\n",
    "plt.title('Acquisition function')\n",
    "plt.xlim([lb[0], ub[0]])\n",
    "plt.ylim([lb[1], ub[1]])\n",
    "plt.tight_layout()"
   ]
  },
  {
   "cell_type": "code",
   "execution_count": null,
   "metadata": {},
   "outputs": [],
   "source": []
  }
 ],
 "metadata": {
  "kernelspec": {
   "display_name": "Python 3",
   "language": "python",
   "name": "python3"
  },
  "language_info": {
   "codemirror_mode": {
    "name": "ipython",
    "version": 3
   },
   "file_extension": ".py",
   "mimetype": "text/x-python",
   "name": "python",
   "nbconvert_exporter": "python",
   "pygments_lexer": "ipython3",
   "version": "3.7.6"
  }
 },
 "nbformat": 4,
 "nbformat_minor": 4
}
