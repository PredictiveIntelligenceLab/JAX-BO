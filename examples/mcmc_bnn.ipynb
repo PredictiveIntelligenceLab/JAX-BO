{
 "cells": [
  {
   "cell_type": "code",
   "execution_count": 1,
   "metadata": {},
   "outputs": [],
   "source": [
    "import numpy as onp\n",
    "import jax.numpy as np\n",
    "from jax import random, vmap\n",
    "from jax.config import config\n",
    "config.update(\"jax_enable_x64\", True)\n",
    "\n",
    "from scipy.optimize import minimize\n",
    "from pyDOE import lhs\n",
    "import matplotlib.pyplot as plt\n",
    "from matplotlib import rc\n",
    "from scipy.interpolate import griddata\n",
    "\n",
    "from jaxbo.mcmc_models import BayesianMLP\n",
    "from jaxbo.utils import normalize, compute_w_gmm\n",
    "from jaxbo.test_functions import *\n",
    "\n",
    "onp.random.seed(1234)"
   ]
  },
  {
   "cell_type": "code",
   "execution_count": 2,
   "metadata": {},
   "outputs": [],
   "source": [
    "# Define test function\n",
    "f, p_x, dim, lb, ub = oakley()\n",
    "\n",
    "# Problem settings\n",
    "N = 5\n",
    "noise = 0.0\n",
    "options = {'kernel': None,\n",
    "           'criterion': 'LW-LCB', \n",
    "           'input_prior': p_x,\n",
    "           'kappa': 2.0,\n",
    "           'nIter': 20}\n",
    "mcmc_settings = {'num_warmup': 1500,\n",
    "                 'num_samples': 20,\n",
    "                 'num_chains': 1,\n",
    "                 'target_accept_prob': 0.9}\n",
    "layers = [dim, 50, 50, 1]\n",
    "bnn_model = BayesianMLP(options, layers)\n",
    "\n",
    "# Fetch domain bounds\n",
    "bounds = {'lb': lb, 'ub': ub}\n",
    "\n",
    "# Initial training data\n",
    "X = lb + (ub-lb)*lhs(dim, N)\n",
    "y = vmap(f)(X)\n",
    "y = y + noise*y.std(0)*onp.random.normal(y.shape)\n",
    "\n",
    "# Test data\n",
    "if dim == 1:\n",
    "    create_plots = True\n",
    "    nn = 1000\n",
    "    X_star = np.linspace(lb[0], ub[0], nn)[:,None]\n",
    "    y_star = vmap(f)(X_star)\n",
    "elif dim == 2:\n",
    "    create_plots = True\n",
    "    nn = 80\n",
    "    xx = np.linspace(lb[0], ub[0], nn)\n",
    "    yy = np.linspace(lb[1], ub[1], nn)\n",
    "    XX, YY = np.meshgrid(xx, yy)\n",
    "    X_star = np.concatenate([XX.flatten()[:,None], \n",
    "                             YY.flatten()[:,None]], axis = 1)\n",
    "    y_star = vmap(f)(X_star)\n",
    "else:\n",
    "    create_plots = False\n",
    "    nn = 20000\n",
    "    X_star = lb + (ub-lb)*lhs(dim, nn)\n",
    "    y_star = vmap(f)(X_star)\n",
    "\n",
    "# True location of global minimum\n",
    "idx_true = np.argmin(y_star)\n",
    "true_x = X_star[idx_true,:]\n",
    "true_y = y_star.min()\n",
    "dom_bounds = tuple(map(tuple, np.vstack((lb, ub)).T))\n",
    "result = minimize(f, true_x, jac=None, method='L-BFGS-B', bounds = dom_bounds)\n",
    "true_x, true_y = result.x, result.fun"
   ]
  },
  {
   "cell_type": "code",
   "execution_count": 3,
   "metadata": {},
   "outputs": [
    {
     "name": "stdout",
     "output_type": "stream",
     "text": [
      "-------------------------------------------------------------------\n",
      "------------------------- Iteration 1/20 -------------------------\n",
      "-------------------------------------------------------------------\n",
      "Train BNN...\n"
     ]
    },
    {
     "name": "stderr",
     "output_type": "stream",
     "text": [
      "sample: 100%|██████████| 1520/1520 [03:06<00:00,  8.14it/s, 1023 steps of size 3.10e-04. acc. prob=0.91]\n"
     ]
    },
    {
     "name": "stdout",
     "output_type": "stream",
     "text": [
      "Fit GMM...\n",
      "Computing next acquisition point...\n",
      "Updating data-set...\n",
      "True location: (-3.665193,-2.094395), True value: -4.223688\n",
      "Best location: (-3.693569,-1.143426), Best value: -3.360093\n",
      "New  location: (-2.794264,2.993406), New  value: 3.613861\n",
      "-------------------------------------------------------------------\n",
      "------------------------- Iteration 2/20 -------------------------\n",
      "-------------------------------------------------------------------\n",
      "Train BNN...\n"
     ]
    },
    {
     "name": "stderr",
     "output_type": "stream",
     "text": [
      "sample: 100%|██████████| 1520/1520 [02:36<00:00,  9.73it/s, 1023 steps of size 2.47e-04. acc. prob=0.96]\n"
     ]
    },
    {
     "name": "stdout",
     "output_type": "stream",
     "text": [
      "Fit GMM...\n",
      "Computing next acquisition point...\n",
      "Updating data-set...\n",
      "True location: (-3.665193,-2.094395), True value: -4.223688\n",
      "Best location: (-3.693569,-1.143426), Best value: -3.360093\n",
      "New  location: (-1.306379,-1.582024), New  value: 0.634417\n",
      "-------------------------------------------------------------------\n",
      "------------------------- Iteration 3/20 -------------------------\n",
      "-------------------------------------------------------------------\n",
      "Train BNN...\n"
     ]
    },
    {
     "name": "stderr",
     "output_type": "stream",
     "text": [
      "sample: 100%|██████████| 1520/1520 [03:06<00:00,  8.15it/s, 1023 steps of size 6.81e-05. acc. prob=0.89]\n"
     ]
    },
    {
     "name": "stdout",
     "output_type": "stream",
     "text": [
      "Fit GMM...\n",
      "Computing next acquisition point...\n",
      "Updating data-set...\n",
      "True location: (-3.665193,-2.094395), True value: -4.223688\n",
      "Best location: (-3.693569,-1.143426), Best value: -3.360093\n",
      "New  location: (-1.294506,0.460695), New  value: 5.600906\n",
      "-------------------------------------------------------------------\n",
      "------------------------- Iteration 4/20 -------------------------\n",
      "-------------------------------------------------------------------\n",
      "Train BNN...\n"
     ]
    },
    {
     "name": "stderr",
     "output_type": "stream",
     "text": [
      "sample: 100%|██████████| 1520/1520 [03:18<00:00,  7.65it/s, 1023 steps of size 2.95e-04. acc. prob=0.94]\n"
     ]
    },
    {
     "name": "stdout",
     "output_type": "stream",
     "text": [
      "Fit GMM...\n",
      "Computing next acquisition point...\n",
      "Updating data-set...\n",
      "True location: (-3.665193,-2.094395), True value: -4.223688\n",
      "Best location: (-3.693569,-1.143426), Best value: -3.360093\n",
      "New  location: (-2.197805,0.354335), New  value: 2.677013\n",
      "-------------------------------------------------------------------\n",
      "------------------------- Iteration 5/20 -------------------------\n",
      "-------------------------------------------------------------------\n",
      "Train BNN...\n"
     ]
    },
    {
     "name": "stderr",
     "output_type": "stream",
     "text": [
      "sample: 100%|██████████| 1520/1520 [03:21<00:00,  7.54it/s, 1023 steps of size 1.04e-04. acc. prob=0.98]\n"
     ]
    },
    {
     "name": "stdout",
     "output_type": "stream",
     "text": [
      "Fit GMM...\n",
      "Computing next acquisition point...\n",
      "Updating data-set...\n",
      "True location: (-3.665193,-2.094395), True value: -4.223688\n",
      "Best location: (-3.693569,-1.143426), Best value: -3.360093\n",
      "New  location: (-0.610201,0.220402), New  value: 6.686510\n",
      "-------------------------------------------------------------------\n",
      "------------------------- Iteration 6/20 -------------------------\n",
      "-------------------------------------------------------------------\n",
      "Train BNN...\n"
     ]
    },
    {
     "name": "stderr",
     "output_type": "stream",
     "text": [
      "sample: 100%|██████████| 1520/1520 [03:40<00:00,  6.91it/s, 1023 steps of size 1.59e-05. acc. prob=0.98]\n"
     ]
    },
    {
     "name": "stdout",
     "output_type": "stream",
     "text": [
      "Fit GMM...\n",
      "Computing next acquisition point...\n",
      "Updating data-set...\n",
      "True location: (-3.665193,-2.094395), True value: -4.223688\n",
      "Best location: (-3.693569,-1.143426), Best value: -3.360093\n",
      "New  location: (-0.862294,-0.669701), New  value: 3.527898\n",
      "-------------------------------------------------------------------\n",
      "------------------------- Iteration 7/20 -------------------------\n",
      "-------------------------------------------------------------------\n",
      "Train BNN...\n"
     ]
    },
    {
     "name": "stderr",
     "output_type": "stream",
     "text": [
      "sample: 100%|██████████| 1520/1520 [03:43<00:00,  6.80it/s, 1023 steps of size 2.11e-04. acc. prob=0.71]\n"
     ]
    },
    {
     "name": "stdout",
     "output_type": "stream",
     "text": [
      "Fit GMM...\n",
      "Computing next acquisition point...\n",
      "Updating data-set...\n",
      "True location: (-3.665193,-2.094395), True value: -4.223688\n",
      "Best location: (-3.693569,-1.143426), Best value: -3.360093\n",
      "New  location: (-0.319096,1.631431), New  value: 10.207698\n",
      "-------------------------------------------------------------------\n",
      "------------------------- Iteration 8/20 -------------------------\n",
      "-------------------------------------------------------------------\n",
      "Train BNN...\n"
     ]
    },
    {
     "name": "stderr",
     "output_type": "stream",
     "text": [
      "sample: 100%|██████████| 1520/1520 [03:10<00:00,  7.98it/s, 1023 steps of size 1.35e-04. acc. prob=0.99]\n"
     ]
    },
    {
     "name": "stdout",
     "output_type": "stream",
     "text": [
      "Fit GMM...\n",
      "Computing next acquisition point...\n",
      "Updating data-set...\n",
      "True location: (-3.665193,-2.094395), True value: -4.223688\n",
      "Best location: (-3.693569,-1.143426), Best value: -3.360093\n",
      "New  location: (-0.864361,-1.224719), New  value: 2.327751\n",
      "-------------------------------------------------------------------\n",
      "------------------------- Iteration 9/20 -------------------------\n",
      "-------------------------------------------------------------------\n",
      "Train BNN...\n"
     ]
    },
    {
     "name": "stderr",
     "output_type": "stream",
     "text": [
      "sample: 100%|██████████| 1520/1520 [02:48<00:00,  9.04it/s, 1023 steps of size 3.00e-05. acc. prob=1.00]\n"
     ]
    },
    {
     "name": "stdout",
     "output_type": "stream",
     "text": [
      "Fit GMM...\n",
      "Computing next acquisition point...\n",
      "Updating data-set...\n",
      "True location: (-3.665193,-2.094395), True value: -4.223688\n",
      "Best location: (-3.693569,-1.143426), Best value: -3.360093\n",
      "New  location: (-2.434898,-1.552752), New  value: -2.508350\n",
      "-------------------------------------------------------------------\n",
      "------------------------- Iteration 10/20 -------------------------\n",
      "-------------------------------------------------------------------\n",
      "Train BNN...\n"
     ]
    },
    {
     "name": "stderr",
     "output_type": "stream",
     "text": [
      "sample: 100%|██████████| 1520/1520 [02:53<00:00,  8.77it/s, 1023 steps of size 2.94e-04. acc. prob=0.84]\n"
     ]
    },
    {
     "name": "stdout",
     "output_type": "stream",
     "text": [
      "Fit GMM...\n",
      "Computing next acquisition point...\n",
      "Updating data-set...\n",
      "True location: (-3.665193,-2.094395), True value: -4.223688\n",
      "Best location: (-3.693569,-1.143426), Best value: -3.360093\n",
      "New  location: (0.466339,0.776910), New  value: 9.431847\n",
      "-------------------------------------------------------------------\n",
      "------------------------- Iteration 11/20 -------------------------\n",
      "-------------------------------------------------------------------\n",
      "Train BNN...\n"
     ]
    },
    {
     "name": "stderr",
     "output_type": "stream",
     "text": [
      "sample: 100%|██████████| 1520/1520 [03:03<00:00,  8.28it/s, 190 steps of size 1.14e-04. acc. prob=0.79] \n"
     ]
    },
    {
     "name": "stdout",
     "output_type": "stream",
     "text": [
      "Fit GMM...\n",
      "Computing next acquisition point...\n",
      "Updating data-set...\n",
      "True location: (-3.665193,-2.094395), True value: -4.223688\n",
      "Best location: (-3.693569,-1.143426), Best value: -3.360093\n",
      "New  location: (-0.128100,-0.201865), New  value: 6.252656\n",
      "-------------------------------------------------------------------\n",
      "------------------------- Iteration 12/20 -------------------------\n",
      "-------------------------------------------------------------------\n",
      "Train BNN...\n"
     ]
    },
    {
     "name": "stderr",
     "output_type": "stream",
     "text": [
      "sample: 100%|██████████| 1520/1520 [03:24<00:00,  7.45it/s, 1023 steps of size 8.47e-05. acc. prob=0.71]\n"
     ]
    },
    {
     "name": "stdout",
     "output_type": "stream",
     "text": [
      "Fit GMM...\n",
      "Computing next acquisition point...\n",
      "Updating data-set...\n",
      "True location: (-3.665193,-2.094395), True value: -4.223688\n",
      "Best location: (-3.693569,-1.143426), Best value: -3.360093\n",
      "New  location: (-1.283578,1.192369), New  value: 7.333858\n",
      "-------------------------------------------------------------------\n",
      "------------------------- Iteration 13/20 -------------------------\n",
      "-------------------------------------------------------------------\n",
      "Train BNN...\n"
     ]
    },
    {
     "name": "stderr",
     "output_type": "stream",
     "text": [
      "sample: 100%|██████████| 1520/1520 [03:52<00:00,  6.54it/s, 1023 steps of size 4.64e-05. acc. prob=0.89]\n"
     ]
    },
    {
     "name": "stdout",
     "output_type": "stream",
     "text": [
      "Fit GMM...\n",
      "Computing next acquisition point...\n",
      "Updating data-set...\n",
      "True location: (-3.665193,-2.094395), True value: -4.223688\n",
      "Best location: (-3.693569,-1.143426), Best value: -3.360093\n",
      "New  location: (1.903238,-3.313305), New  value: 3.278968\n",
      "-------------------------------------------------------------------\n",
      "------------------------- Iteration 14/20 -------------------------\n",
      "-------------------------------------------------------------------\n",
      "Train BNN...\n"
     ]
    },
    {
     "name": "stderr",
     "output_type": "stream",
     "text": [
      "sample: 100%|██████████| 1520/1520 [03:36<00:00,  7.01it/s, 1023 steps of size 1.39e-04. acc. prob=0.93]\n"
     ]
    },
    {
     "name": "stdout",
     "output_type": "stream",
     "text": [
      "Fit GMM...\n",
      "Computing next acquisition point...\n",
      "Updating data-set...\n",
      "True location: (-3.665193,-2.094395), True value: -4.223688\n",
      "Best location: (-3.693569,-1.143426), Best value: -3.360093\n",
      "New  location: (-2.691003,-3.070024), New  value: -2.704423\n",
      "-------------------------------------------------------------------\n",
      "------------------------- Iteration 15/20 -------------------------\n",
      "-------------------------------------------------------------------\n",
      "Train BNN...\n"
     ]
    },
    {
     "name": "stderr",
     "output_type": "stream",
     "text": [
      "sample: 100%|██████████| 1520/1520 [03:24<00:00,  7.43it/s, 1023 steps of size 2.53e-04. acc. prob=0.64]\n"
     ]
    },
    {
     "name": "stdout",
     "output_type": "stream",
     "text": [
      "Fit GMM...\n",
      "Computing next acquisition point...\n",
      "Updating data-set...\n",
      "True location: (-3.665193,-2.094395), True value: -4.223688\n",
      "Best location: (-3.944702,-3.104353), Best value: -3.512463\n",
      "New  location: (-3.944702,-3.104353), New  value: -3.512463\n",
      "-------------------------------------------------------------------\n",
      "------------------------- Iteration 16/20 -------------------------\n",
      "-------------------------------------------------------------------\n",
      "Train BNN...\n"
     ]
    },
    {
     "name": "stderr",
     "output_type": "stream",
     "text": [
      "sample: 100%|██████████| 1520/1520 [03:28<00:00,  7.28it/s, 842 steps of size 1.07e-04. acc. prob=0.91] \n"
     ]
    },
    {
     "name": "stdout",
     "output_type": "stream",
     "text": [
      "Fit GMM...\n",
      "Computing next acquisition point...\n",
      "Updating data-set...\n",
      "True location: (-3.665193,-2.094395), True value: -4.223688\n",
      "Best location: (-3.944702,-3.104353), Best value: -3.512463\n",
      "New  location: (-0.485971,-0.704009), New  value: 4.283906\n",
      "-------------------------------------------------------------------\n",
      "------------------------- Iteration 17/20 -------------------------\n",
      "-------------------------------------------------------------------\n",
      "Train BNN...\n"
     ]
    },
    {
     "name": "stderr",
     "output_type": "stream",
     "text": [
      "sample: 100%|██████████| 1520/1520 [03:44<00:00,  6.78it/s, 1023 steps of size 2.59e-05. acc. prob=0.90]\n"
     ]
    },
    {
     "name": "stdout",
     "output_type": "stream",
     "text": [
      "Fit GMM...\n",
      "Computing next acquisition point...\n",
      "Updating data-set...\n",
      "True location: (-3.665193,-2.094395), True value: -4.223688\n",
      "Best location: (-3.218311,-2.313220), Best value: -3.999312\n",
      "New  location: (-3.218311,-2.313220), New  value: -3.999312\n",
      "-------------------------------------------------------------------\n",
      "------------------------- Iteration 18/20 -------------------------\n",
      "-------------------------------------------------------------------\n",
      "Train BNN...\n"
     ]
    },
    {
     "name": "stderr",
     "output_type": "stream",
     "text": [
      "sample: 100%|██████████| 1520/1520 [03:27<00:00,  7.34it/s, 1023 steps of size 5.96e-05. acc. prob=0.78]\n"
     ]
    },
    {
     "name": "stdout",
     "output_type": "stream",
     "text": [
      "Fit GMM...\n",
      "Computing next acquisition point...\n",
      "Updating data-set...\n",
      "True location: (-3.665193,-2.094395), True value: -4.223688\n",
      "Best location: (-3.218311,-2.313220), Best value: -3.999312\n",
      "New  location: (0.969747,-1.084064), New  value: 4.248968\n",
      "-------------------------------------------------------------------\n",
      "------------------------- Iteration 19/20 -------------------------\n",
      "-------------------------------------------------------------------\n",
      "Train BNN...\n"
     ]
    },
    {
     "name": "stderr",
     "output_type": "stream",
     "text": [
      "sample: 100%|██████████| 1520/1520 [03:26<00:00,  7.37it/s, 66 steps of size 2.23e-04. acc. prob=0.97]  \n"
     ]
    },
    {
     "name": "stdout",
     "output_type": "stream",
     "text": [
      "Fit GMM...\n",
      "Computing next acquisition point...\n",
      "Updating data-set...\n",
      "True location: (-3.665193,-2.094395), True value: -4.223688\n",
      "Best location: (-3.218311,-2.313220), Best value: -3.999312\n",
      "New  location: (1.566234,0.084904), New  value: 6.829867\n",
      "-------------------------------------------------------------------\n",
      "------------------------- Iteration 20/20 -------------------------\n",
      "-------------------------------------------------------------------\n",
      "Train BNN...\n"
     ]
    },
    {
     "name": "stderr",
     "output_type": "stream",
     "text": [
      "sample: 100%|██████████| 1520/1520 [03:32<00:00,  7.14it/s, 1023 steps of size 2.93e-04. acc. prob=0.88]\n"
     ]
    },
    {
     "name": "stdout",
     "output_type": "stream",
     "text": [
      "Fit GMM...\n",
      "Computing next acquisition point...\n",
      "Updating data-set...\n",
      "True location: (-3.665193,-2.094395), True value: -4.223688\n",
      "Best location: (-3.218311,-2.313220), Best value: -3.999312\n",
      "New  location: (-4.000000,3.604868), New  value: 2.403820\n"
     ]
    }
   ],
   "source": [
    "# Main Bayesian optimization loop\n",
    "rng_key = random.PRNGKey(0)\n",
    "for it in range(options['nIter']):\n",
    "    print('-------------------------------------------------------------------')\n",
    "    print('------------------------- Iteration %d/%d -------------------------' % (it+1, options['nIter']))\n",
    "    print('-------------------------------------------------------------------')\n",
    "\n",
    "    # Fetch normalized training data\n",
    "    norm_batch, norm_const = normalize(X, y, bounds)\n",
    "\n",
    "    # Train BNN model\n",
    "    print('Train BNN...')\n",
    "    key1, key2 = random.split(rng_key)\n",
    "    samples = bnn_model.train(norm_batch,\n",
    "                              key1,\n",
    "                              mcmc_settings)\n",
    "    rng_keys = random.split(key2, \n",
    "                            mcmc_settings['num_samples'] * mcmc_settings['num_chains'])\n",
    "\n",
    "    # Fit GMM\n",
    "    if options['criterion'] == 'LW-LCB' or options['criterion'] == 'LW-US':\n",
    "        print('Fit GMM...')\n",
    "        rng_key = random.split(rng_key)[0]\n",
    "        kwargs = {'samples': samples,\n",
    "                  'rng_keys': rng_keys,\n",
    "                  'batch': norm_batch,\n",
    "                  'norm_const': norm_const,\n",
    "                  'bounds': bounds,\n",
    "                  'rng_key': rng_key}\n",
    "        gmm_vars = bnn_model.fit_gmm(**kwargs, N_samples = 10000)\n",
    "    else:\n",
    "        gmm_vars = None\n",
    "\n",
    "    print('Computing next acquisition point...')\n",
    "    kwargs = {'samples': samples,\n",
    "              'rng_keys': rng_keys,\n",
    "              'batch': norm_batch,\n",
    "              'norm_const': norm_const,\n",
    "              'bounds': bounds,\n",
    "              'gmm_vars': gmm_vars}\n",
    "    new_X = bnn_model.compute_next_point(num_restarts=10, **kwargs)\n",
    "\n",
    "    # Acquire data\n",
    "    new_y = vmap(f)(new_X)\n",
    "    new_y = new_y + noise*new_y.std(0)*onp.random.normal(new_y.shape)\n",
    "\n",
    "    # Augment training data\n",
    "    print('Updating data-set...')\n",
    "    X = np.concatenate([X, new_X], axis = 0)\n",
    "    y = np.concatenate([y, new_y], axis = 0)\n",
    "\n",
    "    # Print current best\n",
    "    idx_best = np.argmin(y)\n",
    "    best_x = X[idx_best,:]\n",
    "    best_y = y.min()\n",
    "    print('True location: (%f,%f), True value: %f' % (true_x[0], true_x[1], true_y))\n",
    "    print('Best location: (%f,%f), Best value: %f' % (best_x[0], best_x[1], best_y))\n",
    "    print('New  location: (%f,%f), New  value: %f' % (new_X[0,0], new_X[0,1], new_y))"
   ]
  },
  {
   "cell_type": "code",
   "execution_count": 4,
   "metadata": {},
   "outputs": [
    {
     "name": "stdout",
     "output_type": "stream",
     "text": [
      "Relative L2 error u: 2.116775e+00\n"
     ]
    }
   ],
   "source": [
    "# Test accuracy\n",
    "mean, std = bnn_model.predict(X_star, **kwargs)\n",
    "lower = mean - 2.0*std\n",
    "upper = mean + 2.0*std\n",
    "# Check accuracy\n",
    "error = np.linalg.norm(mean-y_star,2)/np.linalg.norm(y_star,2)\n",
    "print(\"Relative L2 error u: %e\" % (error))"
   ]
  },
  {
   "cell_type": "code",
   "execution_count": 5,
   "metadata": {},
   "outputs": [
    {
     "data": {
      "image/png": "[encoded data removed]",
      "text/plain": [
       "<Figure size 1152x576 with 4 Axes>"
      ]
     },
     "metadata": {
      "needs_background": "light"
     },
     "output_type": "display_data"
    },
    {
     "data": {
      "image/png": "[encoded data removed]",
      "text/plain": [
       "<Figure size 864x360 with 3 Axes>"
      ]
     },
     "metadata": {
      "needs_background": "light"
     },
     "output_type": "display_data"
    }
   ],
   "source": [
    "if create_plots:\n",
    "    # Compute predictions\n",
    "    if options['criterion'] == 'LW-LCB' or options['criterion'] == 'LW-US':\n",
    "        w_pred = compute_w_gmm(X_star, **kwargs)\n",
    "    else:\n",
    "        w_pred = np.zeros(X_star.shape[0])\n",
    "        \n",
    "    acq_fun = lambda x: bnn_model.acquisition(x, **kwargs)\n",
    "    a_pred = vmap(acq_fun)(X_star)\n",
    "    x_new = bnn_model.compute_next_point(num_restarts=10, **kwargs)\n",
    "\n",
    "    # Convert to NumPy\n",
    "    X_star = onp.array(X_star)\n",
    "    y_star = onp.array(y_star)\n",
    "    mean = onp.array(mean)\n",
    "    std = onp.array(std)\n",
    "    w_pred = onp.array(w_pred)\n",
    "    a_pred = onp.array(a_pred)\n",
    "    XX = onp.array(XX)\n",
    "    YY = onp.array(YY)\n",
    "    Y_star = griddata(X_star, y_star, (XX, YY), method='cubic')\n",
    "    Y_pred = griddata(X_star, mean, (XX, YY), method='cubic')\n",
    "    Y_std  = griddata(X_star, std, (XX, YY), method='cubic')\n",
    "    W_star = griddata(X_star, w_pred, (XX, YY), method='cubic')\n",
    "    A_star = griddata(X_star, a_pred, (XX, YY), method='cubic')\n",
    "\n",
    "    # Plot\n",
    "    plt.rcParams.update({'font.size': 16})\n",
    "    plt.rcParams['axes.linewidth']=3\n",
    "    rc('font',**{'family':'sans-serif','sans-serif':['Helvetica']})\n",
    "    rc('text', usetex=True)\n",
    "\n",
    "    plt.figure(figsize = (16,8))\n",
    "    plt.subplot(1, 4, 1)\n",
    "    fig = plt.contourf(XX, YY, Y_star)\n",
    "    plt.plot(X[:,0], X[:,1], 'r.', ms = 6, alpha = 0.8)\n",
    "    # plt.plot(true_x[0], true_x[1], 'md', ms = 8, alpha = 1.0)\n",
    "    plt.xlabel(r'$x_1$')\n",
    "    plt.ylabel(r'$x_2$')\n",
    "    plt.title(r'Exact u(x)')\n",
    "    plt.axis('square')\n",
    "\n",
    "    plt.subplot(1, 4, 2)\n",
    "    fig = plt.contourf(XX, YY, Y_pred)\n",
    "    plt.xlabel(r'$x_1$')\n",
    "    plt.ylabel(r'$x_2$')\n",
    "    plt.title(r'Predicted mean')\n",
    "    plt.axis('square')\n",
    "\n",
    "    plt.subplot(1, 4, 3)\n",
    "    fig = plt.contourf(XX, YY, 2.0*Y_std)\n",
    "    plt.xlabel(r'$x_1$')\n",
    "    plt.ylabel(r'$x_2$')\n",
    "    plt.title(r'Two stds')\n",
    "    plt.axis('square')\n",
    "\n",
    "    plt.subplot(1, 4, 4)\n",
    "    fig = plt.contourf(XX, YY, np.abs(Y_star-Y_pred))\n",
    "    plt.xlabel(r'$x_1$')\n",
    "    plt.ylabel(r'$x_2$')\n",
    "    plt.title(r'Absolute error')\n",
    "    plt.axis('square')\n",
    "#     plt.savefig('function_prediction.png', dpi = 300)\n",
    "\n",
    "    idx_max = np.argmin(a_pred)\n",
    "    plt.figure(figsize = (12,5))\n",
    "    plt.subplot(1, 2, 1)\n",
    "    fig = plt.contourf(XX, YY, W_star)\n",
    "    plt.xlabel(r'$x_1$')\n",
    "    plt.ylabel(r'$x_2$')\n",
    "    plt.title(r'$w_{GMM}(x)$')\n",
    "    plt.axis('square')\n",
    "    plt.subplot(1, 2, 2)\n",
    "    fig = plt.contourf(XX, YY, A_star)\n",
    "    plt.colorbar(fig)\n",
    "    # plt.plot(x0[:,0], x0[:,1], 'ms')\n",
    "    # plt.plot(X_star[idx_max,0], X_star[idx_max,1], 'md')\n",
    "    plt.plot(x_new[:,0], x_new[:,1], 'md', label = 'new X')\n",
    "    plt.legend(frameon = False)\n",
    "    plt.xlabel(r'$x_1$')\n",
    "    plt.ylabel(r'$x_2$')\n",
    "    plt.title(r'%s(x)' % (options['criterion']))\n",
    "    plt.axis('square')\n",
    "#     plt.savefig('acquisition.png', dpi = 300)"
   ]
  },
  {
   "cell_type": "code",
   "execution_count": null,
   "metadata": {},
   "outputs": [],
   "source": []
  }
 ],
 "metadata": {
  "kernelspec": {
   "display_name": "Python 3",
   "language": "python",
   "name": "python3"
  },
  "language_info": {
   "codemirror_mode": {
    "name": "ipython",
    "version": 3
   },
   "file_extension": ".py",
   "mimetype": "text/x-python",
   "name": "python",
   "nbconvert_exporter": "python",
   "pygments_lexer": "ipython3",
   "version": "3.7.6"
  }
 },
 "nbformat": 4,
 "nbformat_minor": 4
}
