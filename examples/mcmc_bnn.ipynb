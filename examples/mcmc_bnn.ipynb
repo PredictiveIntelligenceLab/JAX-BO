{
 "cells": [
  {
   "cell_type": "code",
   "execution_count": 1,
   "metadata": {},
   "outputs": [],
   "source": [
    "import numpy as onp\n",
    "import jax.numpy as np\n",
    "from jax import random, vmap\n",
    "from jax.config import config\n",
    "config.update(\"jax_enable_x64\", True)\n",
    "\n",
    "from scipy.optimize import minimize\n",
    "from pyDOE import lhs\n",
    "import matplotlib.pyplot as plt\n",
    "from matplotlib import rc\n",
    "from scipy.interpolate import griddata\n",
    "\n",
    "from jaxbo.mcmc_models import BayesianMLP\n",
    "from jaxbo.utils import normalize, compute_w_gmm\n",
    "from jaxbo.test_functions import *\n",
    "\n",
    "onp.random.seed(1234)"
   ]
  },
  {
   "cell_type": "code",
   "execution_count": 2,
   "metadata": {},
   "outputs": [],
   "source": [
    "# Define test function\n",
    "f, p_x, dim, lb, ub = oakley()\n",
    "\n",
    "# Problem settings\n",
    "N = 30\n",
    "noise = 0.0\n",
    "options = {'kernel': None,\n",
    "           'criterion': 'LW-LCB', \n",
    "           'input_prior': p_x,\n",
    "           'kappa': 2.0,\n",
    "           'nIter': 20}\n",
    "mcmc_settings = {'num_warmup': 500,\n",
    "                 'num_samples': 2000,\n",
    "                 'num_chains': 1,\n",
    "                 'target_accept_prob': 0.9}\n",
    "layers = [dim, 50, 50, 1]\n",
    "bnn_model = BayesianMLP(options, layers)\n",
    "\n",
    "# Fetch domain bounds\n",
    "bounds = {'lb': lb, 'ub': ub}\n",
    "\n",
    "# Initial training data\n",
    "X = lb + (ub-lb)*lhs(dim, N)\n",
    "y = vmap(f)(X)\n",
    "y = y + noise*y.std(0)*onp.random.normal(y.shape)\n",
    "\n",
    "# Test data\n",
    "if dim == 1:\n",
    "    create_plots = True\n",
    "    nn = 1000\n",
    "    X_star = np.linspace(lb[0], ub[0], nn)[:,None]\n",
    "    y_star = vmap(f)(X_star)\n",
    "elif dim == 2:\n",
    "    create_plots = True\n",
    "    nn = 80\n",
    "    xx = np.linspace(lb[0], ub[0], nn)\n",
    "    yy = np.linspace(lb[1], ub[1], nn)\n",
    "    XX, YY = np.meshgrid(xx, yy)\n",
    "    X_star = np.concatenate([XX.flatten()[:,None], \n",
    "                             YY.flatten()[:,None]], axis = 1)\n",
    "    y_star = vmap(f)(X_star)\n",
    "else:\n",
    "    create_plots = False\n",
    "    nn = 20000\n",
    "    X_star = lb + (ub-lb)*lhs(dim, nn)\n",
    "    y_star = vmap(f)(X_star)\n",
    "\n",
    "# True location of global minimum\n",
    "idx_true = np.argmin(y_star)\n",
    "true_x = X_star[idx_true,:]\n",
    "true_y = y_star.min()\n",
    "dom_bounds = tuple(map(tuple, np.vstack((lb, ub)).T))\n",
    "result = minimize(f, true_x, jac=None, method='L-BFGS-B', bounds = dom_bounds)\n",
    "true_x, true_y = result.x, result.fun"
   ]
  },
  {
   "cell_type": "code",
   "execution_count": 3,
   "metadata": {},
   "outputs": [
    {
     "name": "stdout",
     "output_type": "stream",
     "text": [
      "-------------------------------------------------------------------\n",
      "------------------------- Iteration 1/20 -------------------------\n",
      "-------------------------------------------------------------------\n",
      "Train BNN...\n"
     ]
    },
    {
     "name": "stderr",
     "output_type": "stream",
     "text": [
      "sample: 100%|██████████| 1000/1000 [00:08<00:00, 123.50it/s, 63 steps of size 6.22e-02. acc. prob=0.90]\n"
     ]
    },
    {
     "name": "stdout",
     "output_type": "stream",
     "text": [
      "\n",
      "MCMC elapsed time: 13.63 seconds\n",
      "Fit GMM...\n",
      "Computing next acquisition point...\n",
      "Updating data-set...\n",
      "True location: (-3.665193,-2.094395), True value: -4.223688\n",
      "Best location: (-3.693569,-1.143426), Best value: -3.360093\n",
      "New  location: (-0.212053,0.037978), New  value: 6.857064\n",
      "-------------------------------------------------------------------\n",
      "------------------------- Iteration 2/20 -------------------------\n",
      "-------------------------------------------------------------------\n",
      "Train BNN...\n"
     ]
    },
    {
     "name": "stderr",
     "output_type": "stream",
     "text": [
      "sample: 100%|██████████| 1000/1000 [00:07<00:00, 142.20it/s, 127 steps of size 4.80e-02. acc. prob=0.93]\n"
     ]
    },
    {
     "name": "stdout",
     "output_type": "stream",
     "text": [
      "\n",
      "MCMC elapsed time: 7.77 seconds\n",
      "Fit GMM...\n",
      "Computing next acquisition point...\n",
      "Updating data-set...\n",
      "True location: (-3.665193,-2.094395), True value: -4.223688\n",
      "Best location: (-3.693569,-1.143426), Best value: -3.360093\n",
      "New  location: (-0.251232,-0.187877), New  value: 6.124556\n",
      "-------------------------------------------------------------------\n",
      "------------------------- Iteration 3/20 -------------------------\n",
      "-------------------------------------------------------------------\n",
      "Train BNN...\n"
     ]
    },
    {
     "name": "stderr",
     "output_type": "stream",
     "text": [
      "sample: 100%|██████████| 1000/1000 [00:06<00:00, 165.22it/s, 127 steps of size 3.91e-02. acc. prob=0.94]\n"
     ]
    },
    {
     "name": "stdout",
     "output_type": "stream",
     "text": [
      "\n",
      "MCMC elapsed time: 6.73 seconds\n",
      "Fit GMM...\n",
      "Computing next acquisition point...\n",
      "Updating data-set...\n",
      "True location: (-3.665193,-2.094395), True value: -4.223688\n",
      "Best location: (-3.693569,-1.143426), Best value: -3.360093\n",
      "New  location: (0.216416,0.716437), New  value: 9.199604\n",
      "-------------------------------------------------------------------\n",
      "------------------------- Iteration 4/20 -------------------------\n",
      "-------------------------------------------------------------------\n",
      "Train BNN...\n"
     ]
    },
    {
     "name": "stderr",
     "output_type": "stream",
     "text": [
      "sample: 100%|██████████| 1000/1000 [00:07<00:00, 139.28it/s, 127 steps of size 2.82e-02. acc. prob=0.96]\n"
     ]
    },
    {
     "name": "stdout",
     "output_type": "stream",
     "text": [
      "\n",
      "MCMC elapsed time: 8.09 seconds\n",
      "Fit GMM...\n",
      "Computing next acquisition point...\n",
      "Updating data-set...\n",
      "True location: (-3.665193,-2.094395), True value: -4.223688\n",
      "Best location: (-3.693569,-1.143426), Best value: -3.360093\n",
      "New  location: (-0.270552,-0.723734), New  value: 4.608585\n",
      "-------------------------------------------------------------------\n",
      "------------------------- Iteration 5/20 -------------------------\n",
      "-------------------------------------------------------------------\n",
      "Train BNN...\n"
     ]
    },
    {
     "name": "stderr",
     "output_type": "stream",
     "text": [
      "sample: 100%|██████████| 1000/1000 [00:06<00:00, 163.00it/s, 127 steps of size 2.77e-02. acc. prob=0.96]\n"
     ]
    },
    {
     "name": "stdout",
     "output_type": "stream",
     "text": [
      "\n",
      "MCMC elapsed time: 6.77 seconds\n",
      "Fit GMM...\n",
      "Computing next acquisition point...\n",
      "Updating data-set...\n",
      "True location: (-3.665193,-2.094395), True value: -4.223688\n",
      "Best location: (-3.693569,-1.143426), Best value: -3.360093\n",
      "New  location: (-0.942273,0.114783), New  value: 5.577474\n",
      "-------------------------------------------------------------------\n",
      "------------------------- Iteration 6/20 -------------------------\n",
      "-------------------------------------------------------------------\n",
      "Train BNN...\n"
     ]
    },
    {
     "name": "stderr",
     "output_type": "stream",
     "text": [
      "sample: 100%|██████████| 1000/1000 [00:07<00:00, 142.08it/s, 127 steps of size 3.03e-02. acc. prob=0.93]\n"
     ]
    },
    {
     "name": "stdout",
     "output_type": "stream",
     "text": [
      "\n",
      "MCMC elapsed time: 7.72 seconds\n",
      "Fit GMM...\n",
      "Computing next acquisition point...\n",
      "Updating data-set...\n",
      "True location: (-3.665193,-2.094395), True value: -4.223688\n",
      "Best location: (-3.693569,-1.143426), Best value: -3.360093\n",
      "New  location: (0.686038,0.593882), New  value: 8.946608\n",
      "-------------------------------------------------------------------\n",
      "------------------------- Iteration 7/20 -------------------------\n",
      "-------------------------------------------------------------------\n",
      "Train BNN...\n"
     ]
    },
    {
     "name": "stderr",
     "output_type": "stream",
     "text": [
      "sample: 100%|██████████| 1000/1000 [00:08<00:00, 124.50it/s, 255 steps of size 2.53e-02. acc. prob=0.94]\n"
     ]
    },
    {
     "name": "stdout",
     "output_type": "stream",
     "text": [
      "\n",
      "MCMC elapsed time: 8.66 seconds\n",
      "Fit GMM...\n",
      "Computing next acquisition point...\n",
      "Updating data-set...\n",
      "True location: (-3.665193,-2.094395), True value: -4.223688\n",
      "Best location: (-3.693569,-1.143426), Best value: -3.360093\n",
      "New  location: (0.341334,-0.737930), New  value: 5.142505\n",
      "-------------------------------------------------------------------\n",
      "------------------------- Iteration 8/20 -------------------------\n",
      "-------------------------------------------------------------------\n",
      "Train BNN...\n"
     ]
    },
    {
     "name": "stderr",
     "output_type": "stream",
     "text": [
      "sample: 100%|██████████| 1000/1000 [00:07<00:00, 141.22it/s, 255 steps of size 2.51e-02. acc. prob=0.93]\n"
     ]
    },
    {
     "name": "stdout",
     "output_type": "stream",
     "text": [
      "\n",
      "MCMC elapsed time: 7.72 seconds\n",
      "Fit GMM...\n",
      "Computing next acquisition point...\n",
      "Updating data-set...\n",
      "True location: (-3.665193,-2.094395), True value: -4.223688\n",
      "Best location: (-3.693569,-1.143426), Best value: -3.360093\n",
      "New  location: (-0.275175,0.872776), New  value: 9.054590\n",
      "-------------------------------------------------------------------\n",
      "------------------------- Iteration 9/20 -------------------------\n",
      "-------------------------------------------------------------------\n",
      "Train BNN...\n"
     ]
    },
    {
     "name": "stderr",
     "output_type": "stream",
     "text": [
      "sample: 100%|██████████| 1000/1000 [00:06<00:00, 148.81it/s, 127 steps of size 2.43e-02. acc. prob=0.94]\n"
     ]
    },
    {
     "name": "stdout",
     "output_type": "stream",
     "text": [
      "\n",
      "MCMC elapsed time: 7.45 seconds\n",
      "Fit GMM...\n",
      "Computing next acquisition point...\n",
      "Updating data-set...\n",
      "True location: (-3.665193,-2.094395), True value: -4.223688\n",
      "Best location: (-3.693569,-1.143426), Best value: -3.360093\n",
      "New  location: (-0.799537,-0.694709), New  value: 3.619506\n",
      "-------------------------------------------------------------------\n",
      "------------------------- Iteration 10/20 -------------------------\n",
      "-------------------------------------------------------------------\n",
      "Train BNN...\n"
     ]
    },
    {
     "name": "stderr",
     "output_type": "stream",
     "text": [
      "sample: 100%|██████████| 1000/1000 [00:07<00:00, 134.35it/s, 255 steps of size 2.20e-02. acc. prob=0.94]\n"
     ]
    },
    {
     "name": "stdout",
     "output_type": "stream",
     "text": [
      "\n",
      "MCMC elapsed time: 8.18 seconds\n",
      "Fit GMM...\n",
      "Computing next acquisition point...\n",
      "Updating data-set...\n",
      "True location: (-3.665193,-2.094395), True value: -4.223688\n",
      "Best location: (-3.693569,-1.143426), Best value: -3.360093\n",
      "New  location: (0.323586,-0.040027), New  value: 7.099728\n",
      "-------------------------------------------------------------------\n",
      "------------------------- Iteration 11/20 -------------------------\n",
      "-------------------------------------------------------------------\n",
      "Train BNN...\n"
     ]
    },
    {
     "name": "stderr",
     "output_type": "stream",
     "text": [
      "sample: 100%|██████████| 1000/1000 [00:08<00:00, 116.05it/s, 255 steps of size 1.93e-02. acc. prob=0.95]\n"
     ]
    },
    {
     "name": "stdout",
     "output_type": "stream",
     "text": [
      "\n",
      "MCMC elapsed time: 9.39 seconds\n",
      "Fit GMM...\n",
      "Computing next acquisition point...\n",
      "Updating data-set...\n",
      "True location: (-3.665193,-2.094395), True value: -4.223688\n",
      "Best location: (-3.693569,-1.143426), Best value: -3.360093\n",
      "New  location: (0.309818,1.212388), New  value: 10.299897\n",
      "-------------------------------------------------------------------\n",
      "------------------------- Iteration 12/20 -------------------------\n",
      "-------------------------------------------------------------------\n",
      "Train BNN...\n"
     ]
    },
    {
     "name": "stderr",
     "output_type": "stream",
     "text": [
      "sample: 100%|██████████| 1000/1000 [00:09<00:00, 110.59it/s, 255 steps of size 2.22e-02. acc. prob=0.93]\n"
     ]
    },
    {
     "name": "stdout",
     "output_type": "stream",
     "text": [
      "\n",
      "MCMC elapsed time: 9.91 seconds\n",
      "Fit GMM...\n",
      "Computing next acquisition point...\n",
      "Updating data-set...\n",
      "True location: (-3.665193,-2.094395), True value: -4.223688\n",
      "Best location: (-3.693569,-1.143426), Best value: -3.360093\n",
      "New  location: (0.869529,0.293061), New  value: 8.030731\n",
      "-------------------------------------------------------------------\n",
      "------------------------- Iteration 13/20 -------------------------\n",
      "-------------------------------------------------------------------\n",
      "Train BNN...\n"
     ]
    },
    {
     "name": "stderr",
     "output_type": "stream",
     "text": [
      "sample: 100%|██████████| 1000/1000 [00:11<00:00, 90.02it/s, 255 steps of size 1.94e-02. acc. prob=0.93]\n"
     ]
    },
    {
     "name": "stdout",
     "output_type": "stream",
     "text": [
      "\n",
      "MCMC elapsed time: 12.10 seconds\n",
      "Fit GMM...\n",
      "Computing next acquisition point...\n",
      "Updating data-set...\n",
      "True location: (-3.665193,-2.094395), True value: -4.223688\n",
      "Best location: (-3.693569,-1.143426), Best value: -3.360093\n",
      "New  location: (-0.887535,0.421987), New  value: 6.616252\n",
      "-------------------------------------------------------------------\n",
      "------------------------- Iteration 14/20 -------------------------\n",
      "-------------------------------------------------------------------\n",
      "Train BNN...\n"
     ]
    },
    {
     "name": "stderr",
     "output_type": "stream",
     "text": [
      "sample: 100%|██████████| 1000/1000 [00:10<00:00, 90.96it/s, 255 steps of size 1.77e-02. acc. prob=0.94]\n"
     ]
    },
    {
     "name": "stdout",
     "output_type": "stream",
     "text": [
      "\n",
      "MCMC elapsed time: 12.14 seconds\n",
      "Fit GMM...\n",
      "Computing next acquisition point...\n",
      "Updating data-set...\n",
      "True location: (-3.665193,-2.094395), True value: -4.223688\n",
      "Best location: (-3.693569,-1.143426), Best value: -3.360093\n",
      "New  location: (-0.299380,-1.044265), New  value: 3.838284\n",
      "-------------------------------------------------------------------\n",
      "------------------------- Iteration 15/20 -------------------------\n",
      "-------------------------------------------------------------------\n",
      "Train BNN...\n"
     ]
    },
    {
     "name": "stderr",
     "output_type": "stream",
     "text": [
      "sample: 100%|██████████| 1000/1000 [00:07<00:00, 129.57it/s, 255 steps of size 1.83e-02. acc. prob=0.92]\n"
     ]
    },
    {
     "name": "stdout",
     "output_type": "stream",
     "text": [
      "\n",
      "MCMC elapsed time: 8.52 seconds\n",
      "Fit GMM...\n",
      "Computing next acquisition point...\n",
      "Updating data-set...\n",
      "True location: (-3.665193,-2.094395), True value: -4.223688\n",
      "Best location: (-3.693569,-1.143426), Best value: -3.360093\n",
      "New  location: (0.740535,-0.814031), New  value: 4.948598\n",
      "-------------------------------------------------------------------\n",
      "------------------------- Iteration 16/20 -------------------------\n",
      "-------------------------------------------------------------------\n",
      "Train BNN...\n"
     ]
    },
    {
     "name": "stderr",
     "output_type": "stream",
     "text": [
      "sample: 100%|██████████| 1000/1000 [00:09<00:00, 101.47it/s, 255 steps of size 1.47e-02. acc. prob=0.95]\n"
     ]
    },
    {
     "name": "stdout",
     "output_type": "stream",
     "text": [
      "\n",
      "MCMC elapsed time: 10.80 seconds\n",
      "Fit GMM...\n",
      "Computing next acquisition point...\n",
      "Updating data-set...\n",
      "True location: (-3.665193,-2.094395), True value: -4.223688\n",
      "Best location: (-3.693569,-1.143426), Best value: -3.360093\n",
      "New  location: (0.276752,-0.041691), New  value: 7.075599\n",
      "-------------------------------------------------------------------\n",
      "------------------------- Iteration 17/20 -------------------------\n",
      "-------------------------------------------------------------------\n",
      "Train BNN...\n"
     ]
    },
    {
     "name": "stderr",
     "output_type": "stream",
     "text": [
      "sample: 100%|██████████| 1000/1000 [00:08<00:00, 113.63it/s, 255 steps of size 1.45e-02. acc. prob=0.95]\n"
     ]
    },
    {
     "name": "stdout",
     "output_type": "stream",
     "text": [
      "\n",
      "MCMC elapsed time: 9.63 seconds\n",
      "Fit GMM...\n",
      "Computing next acquisition point...\n",
      "Updating data-set...\n",
      "True location: (-3.665193,-2.094395), True value: -4.223688\n",
      "Best location: (-3.693569,-1.143426), Best value: -3.360093\n",
      "New  location: (-0.216802,0.031623), New  value: 6.831236\n",
      "-------------------------------------------------------------------\n",
      "------------------------- Iteration 18/20 -------------------------\n",
      "-------------------------------------------------------------------\n",
      "Train BNN...\n"
     ]
    },
    {
     "name": "stderr",
     "output_type": "stream",
     "text": [
      "sample: 100%|██████████| 1000/1000 [00:09<00:00, 101.13it/s, 255 steps of size 1.50e-02. acc. prob=0.94]\n"
     ]
    },
    {
     "name": "stdout",
     "output_type": "stream",
     "text": [
      "\n",
      "MCMC elapsed time: 11.34 seconds\n",
      "Fit GMM...\n",
      "Computing next acquisition point...\n",
      "Updating data-set...\n",
      "True location: (-3.665193,-2.094395), True value: -4.223688\n",
      "Best location: (-3.693569,-1.143426), Best value: -3.360093\n",
      "New  location: (-1.213008,0.011141), New  value: 4.520822\n",
      "-------------------------------------------------------------------\n",
      "------------------------- Iteration 19/20 -------------------------\n",
      "-------------------------------------------------------------------\n",
      "Train BNN...\n"
     ]
    },
    {
     "name": "stderr",
     "output_type": "stream",
     "text": [
      "sample: 100%|██████████| 1000/1000 [00:17<00:00, 57.80it/s, 511 steps of size 1.02e-02. acc. prob=0.97] \n"
     ]
    },
    {
     "name": "stdout",
     "output_type": "stream",
     "text": [
      "\n",
      "MCMC elapsed time: 18.60 seconds\n",
      "Fit GMM...\n",
      "Computing next acquisition point...\n",
      "Updating data-set...\n",
      "True location: (-3.665193,-2.094395), True value: -4.223688\n",
      "Best location: (-3.693569,-1.143426), Best value: -3.360093\n",
      "New  location: (-0.125113,0.505878), New  value: 8.334284\n",
      "-------------------------------------------------------------------\n",
      "------------------------- Iteration 20/20 -------------------------\n",
      "-------------------------------------------------------------------\n",
      "Train BNN...\n"
     ]
    },
    {
     "name": "stderr",
     "output_type": "stream",
     "text": [
      "sample: 100%|██████████| 1000/1000 [00:11<00:00, 85.48it/s, 511 steps of size 1.19e-02. acc. prob=0.96]\n"
     ]
    },
    {
     "name": "stdout",
     "output_type": "stream",
     "text": [
      "\n",
      "MCMC elapsed time: 12.61 seconds\n",
      "Fit GMM...\n",
      "Computing next acquisition point...\n",
      "Updating data-set...\n",
      "True location: (-3.665193,-2.094395), True value: -4.223688\n",
      "Best location: (-3.693569,-1.143426), Best value: -3.360093\n",
      "New  location: (1.321099,0.279413), New  value: 7.646317\n"
     ]
    }
   ],
   "source": [
    "# Main Bayesian optimization loop\n",
    "rng_key = random.PRNGKey(0)\n",
    "for it in range(options['nIter']):\n",
    "    print('-------------------------------------------------------------------')\n",
    "    print('------------------------- Iteration %d/%d -------------------------' % (it+1, options['nIter']))\n",
    "    print('-------------------------------------------------------------------')\n",
    "\n",
    "    # Fetch normalized training data\n",
    "    norm_batch, norm_const = normalize(X, y)\n",
    "\n",
    "    # Train BNN model\n",
    "    print('Train BNN...')\n",
    "    key1, key2 = random.split(rng_key)\n",
    "    samples = bnn_model.train(norm_batch,\n",
    "                              key1,\n",
    "                              mcmc_settings)\n",
    "    rng_keys = random.split(key2, \n",
    "                            mcmc_settings['num_samples'] * mcmc_settings['num_chains'])\n",
    "\n",
    "    # Fit GMM\n",
    "    if options['criterion'] == 'LW-LCB' or options['criterion'] == 'LW-US':\n",
    "        print('Fit GMM...')\n",
    "        rng_key = random.split(rng_key)[0]\n",
    "        kwargs = {'samples': samples,\n",
    "                  'rng_keys': rng_keys,\n",
    "                  'norm_const': norm_const,\n",
    "                  'bounds': bounds,\n",
    "                  'rng_key': rng_key}\n",
    "        gmm_vars = bnn_model.fit_gmm(**kwargs, N_samples = 10000)\n",
    "    else:\n",
    "        gmm_vars = None\n",
    "\n",
    "    print('Computing next acquisition point...')\n",
    "    kwargs = {'samples': samples,\n",
    "              'rng_keys': rng_keys,\n",
    "              'norm_const': norm_const,\n",
    "              'bounds': bounds,\n",
    "              'gmm_vars': gmm_vars}\n",
    "    new_X = bnn_model.compute_next_point(num_restarts=10, **kwargs)\n",
    "\n",
    "    # Acquire data\n",
    "    new_y = vmap(f)(new_X)\n",
    "    new_y = new_y + noise*new_y.std(0)*onp.random.normal(new_y.shape)\n",
    "\n",
    "    # Augment training data\n",
    "    print('Updating data-set...')\n",
    "    X = np.concatenate([X, new_X], axis = 0)\n",
    "    y = np.concatenate([y, new_y], axis = 0)\n",
    "\n",
    "    # Print current best\n",
    "    idx_best = np.argmin(y)\n",
    "    best_x = X[idx_best,:]\n",
    "    best_y = y.min()\n",
    "    print('True location: (%f,%f), True value: %f' % (true_x[0], true_x[1], true_y))\n",
    "    print('Best location: (%f,%f), Best value: %f' % (best_x[0], best_x[1], best_y))\n",
    "    print('New  location: (%f,%f), New  value: %f' % (new_X[0,0], new_X[0,1], new_y))"
   ]
  },
  {
   "cell_type": "code",
   "execution_count": 6,
   "metadata": {},
   "outputs": [
    {
     "name": "stdout",
     "output_type": "stream",
     "text": [
      "Relative L2 error u: 7.112958e-01\n"
     ]
    }
   ],
   "source": [
    "# Test accuracy\n",
    "mean, std = bnn_model.predict(X_star, **kwargs)\n",
    "lower = mean - 2.0*std\n",
    "upper = mean + 2.0*std\n",
    "# Check accuracy\n",
    "error = np.linalg.norm(mean-y_star,2)/np.linalg.norm(y_star,2)\n",
    "print(\"Relative L2 error u: %e\" % (error))"
   ]
  },
  {
   "cell_type": "code",
   "execution_count": 7,
   "metadata": {},
   "outputs": [
    {
     "data": {
      "image/png": "[encoded data removed]",
      "text/plain": [
       "<Figure size 1152x576 with 4 Axes>"
      ]
     },
     "metadata": {
      "needs_background": "light"
     },
     "output_type": "display_data"
    },
    {
     "data": {
      "image/png": "[encoded data removed]",
      "text/plain": [
       "<Figure size 864x360 with 3 Axes>"
      ]
     },
     "metadata": {
      "needs_background": "light"
     },
     "output_type": "display_data"
    }
   ],
   "source": [
    "if create_plots:\n",
    "    # Compute predictions\n",
    "    if options['criterion'] == 'LW-LCB' or options['criterion'] == 'LW-US':\n",
    "        w_pred = compute_w_gmm(X_star, **kwargs)\n",
    "    else:\n",
    "        w_pred = np.zeros(X_star.shape[0])\n",
    "        \n",
    "    acq_fun = lambda x: bnn_model.acquisition(x, **kwargs)\n",
    "    a_pred = vmap(acq_fun)(X_star)\n",
    "    x_new = bnn_model.compute_next_point(num_restarts=10, **kwargs)\n",
    "\n",
    "    # Convert to NumPy\n",
    "    X_star = onp.array(X_star)\n",
    "    y_star = onp.array(y_star)\n",
    "    mean = onp.array(mean)\n",
    "    std = onp.array(std)\n",
    "    w_pred = onp.array(w_pred)\n",
    "    a_pred = onp.array(a_pred)\n",
    "    XX = onp.array(XX)\n",
    "    YY = onp.array(YY)\n",
    "    Y_star = griddata(X_star, y_star, (XX, YY), method='cubic')\n",
    "    Y_pred = griddata(X_star, mean, (XX, YY), method='cubic')\n",
    "    Y_std  = griddata(X_star, std, (XX, YY), method='cubic')\n",
    "    W_star = griddata(X_star, w_pred, (XX, YY), method='cubic')\n",
    "    A_star = griddata(X_star, a_pred, (XX, YY), method='cubic')\n",
    "\n",
    "    # Plot\n",
    "    plt.rcParams.update({'font.size': 16})\n",
    "    plt.rcParams['axes.linewidth']=3\n",
    "    rc('font',**{'family':'sans-serif','sans-serif':['Helvetica']})\n",
    "    rc('text', usetex=True)\n",
    "\n",
    "    plt.figure(figsize = (16,8))\n",
    "    plt.subplot(1, 4, 1)\n",
    "    fig = plt.contourf(XX, YY, Y_star)\n",
    "    plt.plot(X[:,0], X[:,1], 'r.', ms = 6, alpha = 0.8)\n",
    "    # plt.plot(true_x[0], true_x[1], 'md', ms = 8, alpha = 1.0)\n",
    "    plt.xlabel(r'$x_1$')\n",
    "    plt.ylabel(r'$x_2$')\n",
    "    plt.title(r'Exact u(x)')\n",
    "    plt.axis('square')\n",
    "\n",
    "    plt.subplot(1, 4, 2)\n",
    "    fig = plt.contourf(XX, YY, Y_pred)\n",
    "    plt.xlabel(r'$x_1$')\n",
    "    plt.ylabel(r'$x_2$')\n",
    "    plt.title(r'Predicted mean')\n",
    "    plt.axis('square')\n",
    "\n",
    "    plt.subplot(1, 4, 3)\n",
    "    fig = plt.contourf(XX, YY, 2.0*Y_std)\n",
    "    plt.xlabel(r'$x_1$')\n",
    "    plt.ylabel(r'$x_2$')\n",
    "    plt.title(r'Two stds')\n",
    "    plt.axis('square')\n",
    "\n",
    "    plt.subplot(1, 4, 4)\n",
    "    fig = plt.contourf(XX, YY, np.abs(Y_star-Y_pred))\n",
    "    plt.xlabel(r'$x_1$')\n",
    "    plt.ylabel(r'$x_2$')\n",
    "    plt.title(r'Absolute error')\n",
    "    plt.axis('square')\n",
    "#     plt.savefig('function_prediction.png', dpi = 300)\n",
    "\n",
    "    idx_max = np.argmin(a_pred)\n",
    "    plt.figure(figsize = (12,5))\n",
    "    plt.subplot(1, 2, 1)\n",
    "    fig = plt.contourf(XX, YY, W_star)\n",
    "    plt.xlabel(r'$x_1$')\n",
    "    plt.ylabel(r'$x_2$')\n",
    "    plt.title(r'$w_{GMM}(x)$')\n",
    "    plt.axis('square')\n",
    "    plt.subplot(1, 2, 2)\n",
    "    fig = plt.contourf(XX, YY, A_star)\n",
    "    plt.colorbar(fig)\n",
    "    # plt.plot(x0[:,0], x0[:,1], 'ms')\n",
    "    # plt.plot(X_star[idx_max,0], X_star[idx_max,1], 'md')\n",
    "    plt.plot(x_new[:,0], x_new[:,1], 'md', label = 'new X')\n",
    "    plt.legend(frameon = False)\n",
    "    plt.xlabel(r'$x_1$')\n",
    "    plt.ylabel(r'$x_2$')\n",
    "    plt.title(r'%s(x)' % (options['criterion']))\n",
    "    plt.axis('square')\n",
    "#     plt.savefig('acquisition.png', dpi = 300)"
   ]
  },
  {
   "cell_type": "code",
   "execution_count": null,
   "metadata": {},
   "outputs": [],
   "source": []
  }
 ],
 "metadata": {
  "kernelspec": {
   "display_name": "Python 3",
   "language": "python",
   "name": "python3"
  },
  "language_info": {
   "codemirror_mode": {
    "name": "ipython",
    "version": 3
   },
   "file_extension": ".py",
   "mimetype": "text/x-python",
   "name": "python",
   "nbconvert_exporter": "python",
   "pygments_lexer": "ipython3",
   "version": "3.7.6"
  }
 },
 "nbformat": 4,
 "nbformat_minor": 4
}
