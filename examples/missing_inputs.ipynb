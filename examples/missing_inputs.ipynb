{
 "cells": [
  {
   "cell_type": "code",
   "execution_count": 1,
   "metadata": {},
   "outputs": [],
   "source": [
    "import numpy as onp\n",
    "import jax.numpy as np\n",
    "from jax import random, vmap\n",
    "from jax.ops import index_update, index\n",
    "from jax.scipy.special import expit as sigmoid\n",
    "from jax.config import config\n",
    "config.update(\"jax_enable_x64\", True)\n",
    "\n",
    "from scipy.optimize import minimize\n",
    "from pyDOE import lhs\n",
    "import matplotlib.pyplot as plt\n",
    "from matplotlib import rc\n",
    "from scipy.interpolate import griddata\n",
    "\n",
    "from jaxbo.models import MissingInputsGP\n",
    "from jaxbo.utils import normalize, compute_w_gmm\n",
    "from jaxbo.test_functions import *\n",
    "\n",
    "onp.random.seed(1234)"
   ]
  },
  {
   "cell_type": "code",
   "execution_count": 2,
   "metadata": {},
   "outputs": [
    {
     "name": "stderr",
     "output_type": "stream",
     "text": [
      "/Users/paris/opt/anaconda3/lib/python3.7/site-packages/jax/lib/xla_bridge.py:130: UserWarning: No GPU/TPU found, falling back to CPU.\n",
      "  warnings.warn('No GPU/TPU found, falling back to CPU.')\n"
     ]
    }
   ],
   "source": [
    "# Define test function\n",
    "f, p_x, dim, lb, ub = branin()\n",
    "\n",
    "# Problem settings\n",
    "N = 25\n",
    "noise = 0.0\n",
    "options = {'kernel': 'RBF',\n",
    "           'criterion': 'LW-LCB', \n",
    "           'input_prior': p_x,\n",
    "           'kappa': 2.0,\n",
    "           'nIter': 20}\n",
    "active_dims = [0]\n",
    "missing_dims = [1]\n",
    "layers = [len(missing_dims), 20, 20, len(missing_dims)]\n",
    "gp_model = MissingInputsGP(options, missing_dims, layers)\n",
    "\n",
    "# Domain bounds\n",
    "bounds = {'lb': lb, 'ub': ub}\n",
    "\n",
    "# Initial training data\n",
    "X = lb + (ub-lb)*lhs(dim, N)\n",
    "y = vmap(f)(X)\n",
    "y = y + noise*y.std(0)*onp.random.normal(y.shape)\n",
    "\n",
    "# Test data\n",
    "create_plots = True\n",
    "nn = 80\n",
    "xx = np.linspace(lb[0], ub[0], nn)\n",
    "yy = np.linspace(lb[1], ub[1], nn)\n",
    "XX, YY = np.meshgrid(xx, yy)\n",
    "X_star = np.concatenate([XX.flatten()[:,None], \n",
    "                         YY.flatten()[:,None]], axis = 1)\n",
    "y_star = vmap(f)(X_star)\n",
    "\n",
    "# Deliberately ommit inputs and concatenate with random values\n",
    "X_true = X\n",
    "Xm = lb[missing_dims] + (ub[missing_dims] - lb[missing_dims])*lhs(len(missing_dims), N)\n",
    "X = index_update(X, index[:,missing_dims], Xm)"
   ]
  },
  {
   "cell_type": "code",
   "execution_count": 3,
   "metadata": {},
   "outputs": [
    {
     "name": "stdout",
     "output_type": "stream",
     "text": [
      "Train GP...\n"
     ]
    }
   ],
   "source": [
    "rng_key = random.PRNGKey(0)\n",
    "# Fetch normalized training data\n",
    "norm_batch, norm_const = normalize(X, y, bounds)\n",
    "\n",
    "# Train GP model\n",
    "print('Train GP...')\n",
    "rng_key = random.split(rng_key)[0]\n",
    "opt_params = gp_model.train(norm_batch,\n",
    "                            rng_key,\n",
    "                            num_restarts = 10)"
   ]
  },
  {
   "cell_type": "code",
   "execution_count": 4,
   "metadata": {},
   "outputs": [
    {
     "name": "stdout",
     "output_type": "stream",
     "text": [
      "Relative L2 error u: 1.503680e+00\n"
     ]
    }
   ],
   "source": [
    "# Test accuracy\n",
    "kwargs = {'params': opt_params,\n",
    "              'batch': norm_batch,\n",
    "              'norm_const': norm_const,\n",
    "              'bounds': bounds,\n",
    "              'gmm_vars': None}\n",
    "mean, std = gp_model.predict(X_star, **kwargs)\n",
    "lower = mean - 2.0*std\n",
    "upper = mean + 2.0*std\n",
    "# Check accuracy\n",
    "error = np.linalg.norm(mean-y_star,2)/np.linalg.norm(y_star,2)\n",
    "print(\"Relative L2 error u: %e\" % (error))"
   ]
  },
  {
   "cell_type": "code",
   "execution_count": 5,
   "metadata": {},
   "outputs": [],
   "source": [
    "Xnb = norm_batch['X']\n",
    "nn_params = gp_model.unravel(opt_params[gp_model.nn_params_ids])\n",
    "Xm_pred = lb[missing_dims] + (ub[missing_dims] - lb[missing_dims])*sigmoid(gp_model.net_apply(nn_params, Xnb[:,missing_dims]))\n",
    "# print(Xm_pred)\n",
    "X = index_update(X, index[:,missing_dims], Xm_pred)"
   ]
  },
  {
   "cell_type": "code",
   "execution_count": 6,
   "metadata": {},
   "outputs": [
    {
     "data": {
      "image/png": "[encoded data removed]",
      "text/plain": [
       "<Figure size 1152x576 with 4 Axes>"
      ]
     },
     "metadata": {
      "needs_background": "light"
     },
     "output_type": "display_data"
    }
   ],
   "source": [
    "# Convert to NumPy\n",
    "X_star = onp.array(X_star)\n",
    "y_star = onp.array(y_star)\n",
    "mean = onp.array(mean)\n",
    "std = onp.array(std)\n",
    "XX = onp.array(XX)\n",
    "YY = onp.array(YY)\n",
    "Y_star = griddata(X_star, y_star, (XX, YY), method='cubic')\n",
    "Y_pred = griddata(X_star, mean, (XX, YY), method='cubic')\n",
    "Y_std  = griddata(X_star, std, (XX, YY), method='cubic')\n",
    "\n",
    "# Plot\n",
    "plt.rcParams.update({'font.size': 16})\n",
    "plt.rcParams['axes.linewidth']=3\n",
    "rc('font',**{'family':'sans-serif','sans-serif':['Helvetica']})\n",
    "rc('text', usetex=True)\n",
    "\n",
    "plt.figure(figsize = (16,8))\n",
    "plt.subplot(1, 4, 1)\n",
    "fig = plt.contourf(XX, YY, Y_star)\n",
    "plt.plot(X[:,0], X[:,1], 'r.', ms = 6, alpha = 0.8)\n",
    "plt.plot(X_true[:,0], X_true[:,1], 'y.', ms = 4, alpha = 0.8)\n",
    "# plt.plot(true_x[0], true_x[1], 'md', ms = 8, alpha = 1.0)\n",
    "plt.xlabel(r'$x_1$')\n",
    "plt.ylabel(r'$x_2$')\n",
    "plt.title(r'Exact u(x)')\n",
    "plt.axis('square')\n",
    "plt.tight_layout()\n",
    "\n",
    "plt.subplot(1, 4, 2)\n",
    "fig = plt.contourf(XX, YY, Y_pred)\n",
    "plt.xlabel(r'$x_1$')\n",
    "plt.ylabel(r'$x_2$')\n",
    "plt.title(r'Predicted mean')\n",
    "plt.axis('square')\n",
    "plt.tight_layout()\n",
    "\n",
    "plt.subplot(1, 4, 3)\n",
    "fig = plt.contourf(XX, YY, 2.0*Y_std)\n",
    "plt.xlabel(r'$x_1$')\n",
    "plt.ylabel(r'$x_2$')\n",
    "plt.title(r'Two stds')\n",
    "plt.axis('square')\n",
    "plt.tight_layout()\n",
    "\n",
    "plt.subplot(1, 4, 4)\n",
    "fig = plt.contourf(XX, YY, np.abs(Y_star-Y_pred))\n",
    "plt.xlabel(r'$x_1$')\n",
    "plt.ylabel(r'$x_2$')\n",
    "plt.title(r'Absolute error')\n",
    "plt.axis('square')\n",
    "plt.tight_layout()\n",
    "\n",
    "# plt.savefig('function_prediction.png', dpi = 300)"
   ]
  },
  {
   "cell_type": "code",
   "execution_count": null,
   "metadata": {},
   "outputs": [],
   "source": []
  }
 ],
 "metadata": {
  "kernelspec": {
   "display_name": "Python 3",
   "language": "python",
   "name": "python3"
  },
  "language_info": {
   "codemirror_mode": {
    "name": "ipython",
    "version": 3
   },
   "file_extension": ".py",
   "mimetype": "text/x-python",
   "name": "python",
   "nbconvert_exporter": "python",
   "pygments_lexer": "ipython3",
   "version": "3.7.6"
  }
 },
 "nbformat": 4,
 "nbformat_minor": 4
}
