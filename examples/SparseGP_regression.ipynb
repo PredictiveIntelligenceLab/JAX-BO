{
 "cells": [
  {
   "cell_type": "code",
   "execution_count": 1,
   "metadata": {},
   "outputs": [],
   "source": [
    "import numpy as onp\n",
    "import jax.numpy as np\n",
    "from jax import random, vmap\n",
    "from jax.config import config\n",
    "config.update(\"jax_enable_x64\", True)\n",
    "\n",
    "from scipy.optimize import minimize\n",
    "from pyDOE import lhs\n",
    "import matplotlib.pyplot as plt\n",
    "from matplotlib import rc\n",
    "from scipy.interpolate import griddata\n",
    "\n",
    "from jaxbo.models import SparseGP\n",
    "from jaxbo.utils import normalize\n",
    "from jaxbo.test_functions import *\n",
    "\n",
    "onp.random.seed(1234)"
   ]
  },
  {
   "cell_type": "code",
   "execution_count": 8,
   "metadata": {},
   "outputs": [],
   "source": [
    "# Define test function\n",
    "f, p_x, dim, lb, ub = branin()\n",
    "\n",
    "# Problem settings\n",
    "N = 5\n",
    "noise = 0.0\n",
    "options = {'kernel': 'RBF',\n",
    "           'input_prior': None}\n",
    "           \n",
    "gp_model = SparseGP(options)\n",
    "\n",
    "# Domain bounds\n",
    "bounds = {'lb': lb, 'ub': ub}\n",
    "\n",
    "# Initial training data\n",
    "X = lb + (ub-lb)*lhs(dim, N)\n",
    "y = vmap(f)(X)\n",
    "y = y + noise*y.std(0)*onp.random.normal(y.shape)\n",
    "\n",
    "# Test data\n",
    "nn = 80\n",
    "xx = np.linspace(lb[0], ub[0], nn)\n",
    "yy = np.linspace(lb[1], ub[1], nn)\n",
    "XX, YY = np.meshgrid(xx, yy)\n",
    "X_star = np.concatenate([XX.flatten()[:,None], \n",
    "                         YY.flatten()[:,None]], axis = 1)\n",
    "y_star = vmap(f)(X_star)"
   ]
  },
  {
   "cell_type": "code",
   "execution_count": 9,
   "metadata": {},
   "outputs": [
    {
     "name": "stdout",
     "output_type": "stream",
     "text": [
      "Train GP...\n",
      "Likelihood: -4.145701e+01\n",
      "Likelihood: -4.145700e+01\n",
      "Likelihood: -4.145700e+01\n",
      "Likelihood: -4.145700e+01\n",
      "Likelihood: -4.145699e+01\n",
      "Likelihood: -4.145701e+01\n",
      "Likelihood: -4.145700e+01\n",
      "Likelihood: -4.145700e+01\n",
      "Likelihood: -4.145701e+01\n",
      "Likelihood: -4.145700e+01\n"
     ]
    }
   ],
   "source": [
    "norm_batch, norm_const = normalize(X, y, bounds)\n",
    "norm_batch.update({'Z': norm_batch['X']})\n",
    "# print(norm_batch)\n",
    "print('Train GP...')\n",
    "rng_key = random.PRNGKey(0)\n",
    "opt_params = gp_model.train(norm_batch,\n",
    "                            rng_key,\n",
    "                            num_restarts = 10)"
   ]
  },
  {
   "cell_type": "code",
   "execution_count": 4,
   "metadata": {},
   "outputs": [
    {
     "name": "stdout",
     "output_type": "stream",
     "text": [
      "Relative L2 error u: 6.926409e-01\n"
     ]
    }
   ],
   "source": [
    "# Test accuracy\n",
    "kwargs = {'params': opt_params,\n",
    "          'batch': norm_batch,\n",
    "          'norm_const': norm_const,\n",
    "          'bounds': bounds}\n",
    "mean, std = gp_model.predict(X_star, **kwargs)\n",
    "lower = mean - 2.0*std\n",
    "upper = mean + 2.0*std\n",
    "# Check accuracy\n",
    "error = np.linalg.norm(mean-y_star,2)/np.linalg.norm(y_star,2)\n",
    "print(\"Relative L2 error u: %e\" % (error))"
   ]
  },
  {
   "cell_type": "code",
   "execution_count": 5,
   "metadata": {},
   "outputs": [
    {
     "data": {
      "image/png": "[encoded data removed]",
      "text/plain": [
       "<Figure size 1152x576 with 4 Axes>"
      ]
     },
     "metadata": {
      "needs_background": "light"
     },
     "output_type": "display_data"
    }
   ],
   "source": [
    "# Convert to NumPy\n",
    "X_star = onp.array(X_star)\n",
    "y_star = onp.array(y_star)\n",
    "mean = onp.array(mean)\n",
    "std = onp.array(std)\n",
    "XX = onp.array(XX)\n",
    "YY = onp.array(YY)\n",
    "Y_star = griddata(X_star, y_star, (XX, YY), method='cubic')\n",
    "Y_pred = griddata(X_star, mean, (XX, YY), method='cubic')\n",
    "Y_std  = griddata(X_star, std, (XX, YY), method='cubic')\n",
    "\n",
    "# Plot\n",
    "plt.rcParams.update({'font.size': 16})\n",
    "plt.rcParams['axes.linewidth']=3\n",
    "rc('font',**{'family':'sans-serif','sans-serif':['Helvetica']})\n",
    "rc('text', usetex=True)\n",
    "\n",
    "plt.figure(figsize = (16,8))\n",
    "plt.subplot(1, 4, 1)\n",
    "fig = plt.contourf(XX, YY, Y_star)\n",
    "plt.plot(X[:,0], X[:,1], 'r.', ms = 6, alpha = 0.8)\n",
    "# plt.plot(true_x[0], true_x[1], 'md', ms = 8, alpha = 1.0)\n",
    "plt.xlabel(r'$x_1$')\n",
    "plt.ylabel(r'$x_2$')\n",
    "plt.title(r'Exact u(x)')\n",
    "plt.axis('square')\n",
    "\n",
    "plt.subplot(1, 4, 2)\n",
    "fig = plt.contourf(XX, YY, Y_pred)\n",
    "plt.xlabel(r'$x_1$')\n",
    "plt.ylabel(r'$x_2$')\n",
    "plt.title(r'Predicted mean')\n",
    "plt.axis('square')\n",
    "\n",
    "plt.subplot(1, 4, 3)\n",
    "fig = plt.contourf(XX, YY, 2.0*Y_std)\n",
    "plt.xlabel(r'$x_1$')\n",
    "plt.ylabel(r'$x_2$')\n",
    "plt.title(r'Two stds')\n",
    "plt.axis('square')\n",
    "\n",
    "plt.subplot(1, 4, 4)\n",
    "fig = plt.contourf(XX, YY, np.abs(Y_star-Y_pred))\n",
    "plt.xlabel(r'$x_1$')\n",
    "plt.ylabel(r'$x_2$')\n",
    "plt.title(r'Absolute error')\n",
    "plt.axis('square')\n",
    "\n",
    "plt.tight_layout()\n",
    "# plt.savefig('function_prediction.png', dpi = 300)"
   ]
  },
  {
   "cell_type": "code",
   "execution_count": null,
   "metadata": {},
   "outputs": [],
   "source": []
  }
 ],
 "metadata": {
  "kernelspec": {
   "display_name": "Python 3",
   "language": "python",
   "name": "python3"
  },
  "language_info": {
   "codemirror_mode": {
    "name": "ipython",
    "version": 3
   },
   "file_extension": ".py",
   "mimetype": "text/x-python",
   "name": "python",
   "nbconvert_exporter": "python",
   "pygments_lexer": "ipython3",
   "version": "3.7.6"
  }
 },
 "nbformat": 4,
 "nbformat_minor": 4
}
